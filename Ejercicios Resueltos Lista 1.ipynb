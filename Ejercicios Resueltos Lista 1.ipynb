{
 "cells": [
  {
   "cell_type": "code",
   "execution_count": 8,
   "metadata": {},
   "outputs": [],
   "source": [
    "import scipy.constants as sc\n",
    "import math\n",
    "import numpy as np\n",
    "import scipy.special\n",
    "import scipy.misc\n",
    "from matplotlib import pyplot as plt\n",
    "from mpl_toolkits import mplot3d\n",
    "\n",
    "%matplotlib inline"
   ]
  },
  {
   "cell_type": "markdown",
   "metadata": {},
   "source": [
    "## 1. \n",
    "a) Aplique el Teorema Virial a un potencial central $V(r) = r^n$ con $n \\in \\mathbb{Z} $ y demuestre que $2 \\langle K\\rangle = n \\langle V \\rangle$ , donde K es la energía cinética.\n",
    "  \n",
    "b) Para el caso de n = -1, como en un átomo hidrogenoide, demuestre que para el hamiltoniano $\\mathcal{H}$ se cumple que:\n",
    "  \n",
    "\\begin{align}  \n",
    "  \\langle \\mathcal{H} \\rangle = \\frac{1}{2}\\langle V \\rangle = -\\langle K \\rangle = \\frac{Z^2 e^2}{2 a_0 n^2}\n",
    "\\end{align}"
   ]
  },
  {
   "cell_type": "markdown",
   "metadata": {},
   "source": [
    "### Solución\n",
    "a) Utilizando el Teorema Virial Cuántico\n",
    "\n",
    "\\begin{align}\n",
    "\\boxed{2 \\langle K \\rangle = \\sum_n \\langle x_n \\frac{dV}{dx_n}\\rangle}\n",
    "\\end{align}\n",
    "\n",
    "tenemos que \n",
    "\\begin{aligned}\n",
    " 2 \\langle K \\rangle &= \\langle r \\frac{d\\left(r^n\\right)}{dx_n}\\rangle \\newline\n",
    " {}&= \\langle r n r^{n-1}\\rangle  \\newline\n",
    "{}&= \\langle n r^{n}\\rangle \\newline\n",
    "{}&= \\langle n V\\rangle  \\newline\n",
    "\\boxed{2 \\langle K \\rangle= n\\langle V\\rangle }\n",
    "\\end{aligned}\n",
    "\n",
    "b) "
   ]
  },
  {
   "cell_type": "markdown",
   "metadata": {},
   "source": [
    "## 2. \n",
    "Una forma alternativa de resolver la ecuación radial del átomo de hidrógeno es por el método de factorización del hamiltoniano como se identifica a continuación:\n",
    "\n",
    "i) Normalizando la energía $\\varepsilon_{nl} = \\frac{2\\hbar^2}{\\mu e^4}E_{nl}$ y la coordenada radial $y=\\frac{\\mu e^2}{\\hbar ^2}r$. Demuestre que la ecuación radial se puede escribir de la forma:\n",
    "\n",
    "\\begin{align}\n",
    "h_l R_{nl}(y) = \\varepsilon_{nl}R_{nl}(y)\n",
    "\\end{align}\n",
    "\n",
    "Donde:\n",
    "\n",
    "\\begin{align}\n",
    "h_l=-\\left( \\frac{d}{dy}+\\frac{1}{y} \\right)^2 + \\frac{l(l+1)}{y^2} - \\frac{2}{y}\n",
    "\\end{align}"
   ]
  },
  {
   "cell_type": "markdown",
   "metadata": {},
   "source": [
    "#### Solución\n",
    "\n"
   ]
  },
  {
   "cell_type": "markdown",
   "metadata": {},
   "source": [
    "## 3. \n",
    "El estado del electrón en un ion $Li^{2^+}$ está descrito por la función de onda normalizada:\n",
    "\n",
    "\\begin{align}\n",
    "\\psi(r,\\theta,\\phi) = -\\frac{1}{\\sqrt{3}}R_{42}(r)Y_2^{-1}(\\theta,\\phi) + \\frac{2i}{3}R_{32}(r)Y_2^1(\\theta,\\phi) - \\sqrt{\\frac{2}{9}}R_{10}(r)Y_0^0(\\theta,\\phi)\n",
    "\\end{align}\n",
    "\n",
    "1. Si se mide la energía total de diferentes iones de $Li^{2^+}$ en este estado ¿Que valores se encontrarán?\n",
    "2. Si se encuentra más de un valor, ¿Cual es la probabilidad de obtener cada resultado y cuál es el valor medio?\n",
    "3. Si se mide la magnitud del momento angular total, qué valores se encontrarán?\n",
    "4. Si hay mas de un valor posible, ¿Cual es la probabilidad de obtener cada resultado?¿Cual es el valor esperado?\n",
    "\n"
   ]
  },
  {
   "cell_type": "markdown",
   "metadata": {},
   "source": [
    "#### Solución:\n",
    "La energía para un átomo hidrogenoide está dada por:\n",
    "\n",
    "\\begin{align}\n",
    "\\boxed{E_{n}=-\\left(\\frac{Z^{2} \\mu e^{4}}{32 \\pi^{2} \\epsilon_{0}^{2} \\hbar^{2}}\\right) \\frac{1}{n^{2}}}\n",
    "\\end{align}\n",
    "\n",
    "1. Como se puede observar, la energía sólo depende del número principal **n**, no del valor de los otros números cuánticos.También podemos observar que el electrón se encuentra en un estado de superposición entre 3 estados con n=4,3 y 1 respectivamente por lo tanto, las energías posibles son $E_4$, $E_3$ y $E_1$, ( calculadas mas abajo)\n",
    "\n",
    "2. La probablilidad de encontrar cada valor está dada por la constante elevada al cuadrado, asociada a sumando de la función. Por lo tanto\n",
    "\n",
    "\\begin{align}\n",
    "P(E_4) = \\frac{1}{3} \\newline\\newline\n",
    "P(E_3) = \\frac{4}{9} \\newline\\newline\n",
    "P(E_1) = \\frac{2}{9}\n",
    "\\end{align}\n",
    "\n",
    "Notemos que la suma de las probabilidades de encontrar cualquiera de las energías posibles es igual a 1.\n",
    "\n",
    "El valor medio de la energía es: \n",
    "\n",
    "\\begin{align}\n",
    "\\langle E \\rangle &=\\langle \\psi (r,\\theta,\\phi ) | H |  \\psi (r,\\theta,\\phi ) \\rangle \\newline\n",
    "\\end{align}\n",
    "\n",
    "\n",
    "\n",
    "3. El momento angular está dado por:\n",
    "\n",
    "\\begin{align}\n",
    "\\boxed{L^2 Y^m_l = \\hbar^2 (l+1)l \\;Y^m_l}\n",
    "\\end{align}\n"
   ]
  },
  {
   "cell_type": "code",
   "execution_count": 1,
   "metadata": {},
   "outputs": [
    {
     "name": "stdout",
     "output_type": "stream",
     "text": [
      "Las energías son: \n",
      "\n",
      "\n",
      "E1:  -122.44171084681619  eV\n",
      "E3:  -13.604634538535132  eV\n",
      "E4:  -7.652606927926012  eV\n",
      "\n",
      "\n",
      "Los momentos angulares son son: \n",
      "\n",
      "\n",
      "L1:  1.623049059794292e-33  kg m / s\n",
      "L3:  1.623049059794292e-33  kg m / s\n",
      "L4:  2.2953379927579886e-33  kg m / s\n"
     ]
    }
   ],
   "source": [
    "# Calculo de la energía y momento angular en el problema 3\n",
    "mn=sc.proton_mass*7\n",
    "mu=(mn*sc.electron_mass)/(mn+sc.electron_mass)\n",
    "En = -((9*mu*sc.elementary_charge**4)/(32*(math.pi**2)*sc.epsilon_0*sc.epsilon_0*(sc.hbar**2)))\n",
    "E1 = En/ sc.elementary_charge\n",
    "E3 = En/(9*sc.elementary_charge)\n",
    "E4 = En/(16*sc.elementary_charge)\n",
    "print(\"Las energías son: \\n\\n\")\n",
    "print (\"E1: \",E1,\" eV\")\n",
    "print (\"E3: \",E3,\" eV\")\n",
    "print (\"E4: \",E4,\" eV\")\n",
    "\n",
    "L1=sc.h * math.sqrt(2*3)\n",
    "L3=sc.h * math.sqrt(2*3)\n",
    "L4=sc.h * math.sqrt(3*4)\n",
    "\n",
    "print(\"\\n\\nLos momentos angulares son son: \\n\\n\")\n",
    "print (\"L1: \",L1,\" kg m / s\")\n",
    "print (\"L3: \",L3,\" kg m / s\")\n",
    "print (\"L4: \",L4,\" kg m / s\")\n",
    "\n"
   ]
  },
  {
   "cell_type": "markdown",
   "metadata": {},
   "source": [
    "# DUDA: El momento angular va multiplicado por $Y^m_l$ ?"
   ]
  },
  {
   "cell_type": "markdown",
   "metadata": {},
   "source": [
    "## 4. \n",
    "**a)¿En qué punto del espacio es más probable encontrar al electrón en un orbital hidrogenoide $2p_z$?**\n",
    "\n",
    "**b) ¿Cuál es la probabilidad de encontrar el electrón dentro de una esfera de radio R centrada en el núcleo?**\n"
   ]
  },
  {
   "cell_type": "markdown",
   "metadata": {},
   "source": [
    "### Solución\n",
    "\n",
    "La probabilidad radial de un átomo hidrogenoide está dada por la ecuación:\n",
    "\n",
    "\\begin{align}\n",
    "\\langle nlm |\\; r\\;R_{nl}(r) \\;| nlm \\rangle\n",
    "\\end{align}\n",
    "\n",
    "donde R(r) es la función de onda radial del átomo hidrogenoide, dada por:\n",
    "\n",
    "\\begin{align}\n",
    "R_{n l}(r)=\\sqrt{\\left(\\frac{2 Z}{n a_{\\mu}}\\right)^{3} \\frac{(n-l-1) !}{2 n[(n+l) !]^{3}}} e^{-Z r / n a_{\\mu}}\\left(\\frac{2 Z r}{n a_{\\mu}}\\right)^{l} L_{n-l-1}^{2 l+1}\\left(\\frac{2 Z r}{n a_{\\mu}}\\right)\n",
    "\\end{align}\n",
    "\n",
    "Para el orbital 2p_z, con Z=1, tenemos que $R_{nl}(r) = R_{21}(r)$ \n",
    "\n",
    "\\begin{align}\n",
    "R_{21}(r) =\\sqrt{\\left(\\frac{1}{a_0}\\right)^3}e^{-\\frac{r}{2a_0}}\\frac{r}{a_0} L_0^3\\left(\\frac{r}{a_0}\\right)\n",
    "\\end{align}"
   ]
  },
  {
   "cell_type": "code",
   "execution_count": 25,
   "metadata": {},
   "outputs": [
    {
     "name": "stdout",
     "output_type": "stream",
     "text": [
      "\n",
      "\n",
      "El máximo se encuentra a  4.0  radios de bohr del centro del átomo\n",
      "\n",
      "\n"
     ]
    },
    {
     "data": {
      "image/png": "[encoded data removed]",
      "text/plain": [
       "<Figure size 432x288 with 1 Axes>"
      ]
     },
     "metadata": {
      "needs_background": "light"
     },
     "output_type": "display_data"
    }
   ],
   "source": [
    "r=np.arange(0,20,0.0001)\n",
    "a0=1 # RADIO DE BOHR\n",
    "R = lambda r,n,l: (2*r/(n*a0))**l * numpy.exp(-r/n/a0) * scipy.special.genlaguerre(n-l-1,2*l+1)(2*r/n/a0)/2 #FUNCION RADIAL\n",
    "WF= lambda r,n,l : r*R(r,n,l)\n",
    "sqrWF=lambda r,n,l : abs(WF(r,n,l))\n",
    "fig = plt.figure()\n",
    "R21=sqrWF(r,2,1)\n",
    "maxr21=max(sqrWF(r,2,1))\n",
    "plt.plot(r,R21)\n",
    "for i in r:\n",
    "    if sqrWF(i,2,1) ==maxr21 :\n",
    "        plt.scatter(i,sqrWF(i,2,1),color=\"red\",marker=\"o\")\n",
    "        print (\"\\n\\nEl máximo se encuentra a \",i,\" radios de bohr del centro del átomo\\n\\n\")\n",
    "        break"
   ]
  },
  {
   "cell_type": "code",
   "execution_count": null,
   "metadata": {},
   "outputs": [],
   "source": []
  }
 ],
 "metadata": {
  "kernelspec": {
   "display_name": "Python 3",
   "language": "python",
   "name": "python3"
  },
  "language_info": {
   "codemirror_mode": {
    "name": "ipython",
    "version": 3
   },
   "file_extension": ".py",
   "mimetype": "text/x-python",
   "name": "python",
   "nbconvert_exporter": "python",
   "pygments_lexer": "ipython3",
   "version": "3.7.4"
  }
 },
 "nbformat": 4,
 "nbformat_minor": 4
}
