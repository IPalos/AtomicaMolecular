{
 "cells": [
  {
   "cell_type": "markdown",
   "metadata": {},
   "source": [
    "1. a) Aplique el Teorema Virial a un potencial central $V(r) = r^n$ con $n \\in \\mathbb{Z} $ y demuestre que $2 \\langle K\\rangle = n \\langle V \\rangle$ , donde K es la energía cinética.\n",
    "  \n",
    "  b) Para el caso de n = -1, como en un átomo hidrogenoide, demuestre que para el hamiltoniano $\\mathcal{H}$ se cumple que:\n",
    "  \n",
    "\\begin{align}  \n",
    "  \\langle \\mathcal{H} \\rangle = \\frac{1}{2}\\langle V \\rangle = -\\langle K \\rangle = \\frac{Z^2 e^2}{2 a_0 n^2}\n",
    "\\end{align}"
   ]
  },
  {
   "cell_type": "markdown",
   "metadata": {},
   "source": [
    "### Solución\n",
    "a) Utilizando el Teorema Virial Cuántico\n",
    "\n",
    "\\begin{align}\n",
    "\\boxed{2 \\langle K \\rangle = \\sum_n \\langle x_n \\frac{dV}{dx_n}\\rangle}\n",
    "\\end{align}\n",
    "\n",
    "tenemos que \n",
    "\\begin{aligned}\n",
    " 2 \\langle K \\rangle &= \\langle r \\frac{d\\left(r^n\\right)}{dx_n}\\rangle \\newline\n",
    " {}&= \\langle r n r^{n-1}\\rangle  \\newline\n",
    "{}&= \\langle n r^{n}\\rangle \\newline\n",
    "{}&= \\langle n V\\rangle  \\newline\n",
    "\\boxed{2 \\langle K \\rangle= n\\langle V\\rangle }\n",
    "\\end{aligned}\n",
    "\n",
    "b) "
   ]
  },
  {
   "cell_type": "markdown",
   "metadata": {},
   "source": [
    "## 2. \n",
    "Una forma alternativa de resolver la ecuación radial del átomo de hidrógeno es por el método de factorización del hamiltoniano como se identifica a continuación:\n",
    "\n",
    "i) Normalizando la energía $\\varepsilon_{nl} = \\frac{2\\hbar^2}{\\mu e^4}E_{nl}$ y la coordenada radial $y=\\frac{\\mu e^2}{\\hbar ^2}r$. Demuestre que la ecuación radial se puede escribir de la forma:\n",
    "\n",
    "\\begin{align}\n",
    "h_l R_{nl}(y) = \\varepsilon_{nl}R_{nl}(y)\n",
    "\\end{align}\n",
    "\n",
    "Donde:\n",
    "\n",
    "\\begin{align}\n",
    "h_l=-\\left( \\frac{d}{dy}+\\frac{1}{y} \\right)^2 + \\frac{l(l+1)}{y^2} - \\frac{2}{y}\n",
    "\\end{align}"
   ]
  },
  {
   "cell_type": "markdown",
   "metadata": {},
   "source": [
    "#### Solución\n",
    "\n"
   ]
  },
  {
   "cell_type": "markdown",
   "metadata": {},
   "source": [
    "## 3. \n",
    "El estado del electrón en un ion $Li^{2^+}$ está descrito por la función de onda normalizada:\n",
    "\n",
    "\\begin{align}\n",
    "\\psi(r,\\theta,\\phi) = -\\frac{1}{\\sqrt{3}}R_{42}(r)Y_2^{-1}(\\theta,\\phi) + \\frac{2i}{3}R_{32}(r)Y_2^1(\\theta,\\phi) - \\sqrt{\\frac{2}{9}}R_{10}(r)Y_0^0(\\theta,\\phi)\n",
    "\\end{align}\n",
    "\n",
    "1. Si se mide la energía total de diferentes iones de $Li^{2^+}$ en este estado ¿Que valores se encontrarán?\n",
    "2. Si se encuentra más de un valor, ¿Cual es la probabilidad de obtener cada resultado y cuál es el valor medio?\n",
    "3. Si se mide la magnitud del momento angular total, qué valores se encontrarán?\n",
    "4. Si hay mas de un valor posible, ¿Cual es la probabilidad de obtener cada resultado?¿Cual es el valor esperado?\n",
    "\n"
   ]
  },
  {
   "cell_type": "markdown",
   "metadata": {},
   "source": [
    "#### Solución:\n",
    "La energía para un átomo hidrogenoide está dada por:\n",
    "\n",
    "\\begin{align}\n",
    "\\boxed{E_{n}=-\\left(\\frac{Z^{2} \\mu e^{4}}{32 \\pi^{2} \\epsilon_{0}^{2} \\hbar^{2}}\\right) \\frac{1}{n^{2}}}\n",
    "\\end{align}\n",
    "\n",
    "1. Como se puede observar, la energía sólo depende del número principal **n**, no del valor de los otros números cuánticos.También podemos observar que el electrón se encuentra en un estado de superposición entre 3 estados con n=4,3 y 1 respectivamente por lo tanto, las energías posibles son $E_4$, $E_3$ y $E_1$, ( calculadas mas abajo)\n",
    "2. La probablilidad de encontrar cada valor está dada por la constante elevada al cuadrado, asociada a sumando de la función. Por lo tanto\n",
    "\n",
    "\\begin{align}\n",
    "P(E_4) = \\frac{1}{3} \\newline\\newline\n",
    "P(E_3) = \\frac{4}{9} \\newline\\newline\n",
    "P(E_1) = \\frac{2}{9}\n",
    "\\end{align}\n",
    "\n",
    "Notemos que la suma de las probabilidades de encontrar cualquiera de las energías posibles es igual a 1."
   ]
  },
  {
   "cell_type": "code",
   "execution_count": 7,
   "metadata": {},
   "outputs": [
    {
     "name": "stdout",
     "output_type": "stream",
     "text": [
      "E1:  -122.44171084681619  eV\n",
      "E3:  -13.604634538535132  eV\n",
      "E4:  -7.652606927926012  eV\n"
     ]
    }
   ],
   "source": [
    "# Calculo de la energía en el problema 3\n",
    "import scipy.constants as sc\n",
    "import math\n",
    "mn=sc.proton_mass*7\n",
    "mu=(mn*sc.electron_mass)/(mn+sc.electron_mass)\n",
    "En = -((9*mu*sc.elementary_charge**4)/(32*(math.pi**2)*sc.epsilon_0*sc.epsilon_0*(sc.hbar**2)))\n",
    "E1 = En/ sc.elementary_charge\n",
    "E3 = En/(9*sc.elementary_charge)\n",
    "E4 = En/(16*sc.elementary_charge)\n",
    "print (\"E1: \",E1,\" eV\")\n",
    "print (\"E3: \",E3,\" eV\")\n",
    "print (\"E4: \",E4,\" eV\")"
   ]
  },
  {
   "cell_type": "code",
   "execution_count": null,
   "metadata": {},
   "outputs": [],
   "source": []
  }
 ],
 "metadata": {
  "kernelspec": {
   "display_name": "Python 3",
   "language": "python",
   "name": "python3"
  },
  "language_info": {
   "codemirror_mode": {
    "name": "ipython",
    "version": 3
   },
   "file_extension": ".py",
   "mimetype": "text/x-python",
   "name": "python",
   "nbconvert_exporter": "python",
   "pygments_lexer": "ipython3",
   "version": "3.7.4"
  }
 },
 "nbformat": 4,
 "nbformat_minor": 4
}
