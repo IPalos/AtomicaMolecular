{
 "cells": [
  {
   "cell_type": "markdown",
   "metadata": {},
   "source": [
    "1. a) Aplique el Teorema Virial a un potencial central $V(r) = r^n$ con $n \\in \\mathbb{Z} $ y demuestre que $2 \\langle K\\rangle = n \\langle V \\rangle$ , donde K es la energía cinética.\n",
    "  \n",
    "  b) Para el caso de n = -1, como en un átomo hidrogenoide, demuestre que para el hamiltoniano $\\mathcal{H}$ se cumple que:\n",
    "  \n",
    "\\begin{align}  \n",
    "  \\langle \\mathcal{H} \\rangle = \\frac{1}{2}\\langle V \\rangle = -\\langle K \\rangle = \\frac{Z^2 e^2}{2 a_0 n^2}\n",
    "\\end{align}"
   ]
  },
  {
   "cell_type": "markdown",
   "metadata": {},
   "source": [
    "### Solución\n",
    "a) Utilizando el Teorema Virial Cuántico\n",
    "\n",
    "\\begin{align}\n",
    "\\boxed{2 \\langle K \\rangle = \\sum_n \\langle x_n \\frac{dV}{dx_n}\\rangle}\n",
    "\\end{align}\n",
    "\n",
    "tenemos que \n",
    "\\begin{aligned}\n",
    " 2 \\langle K \\rangle &= \\langle r \\frac{d\\left(r^n\\right)}{dx_n}\\rangle \\newline\n",
    " {}&= \\langle r n r^{n-1}\\rangle  \\newline\n",
    "{}&= \\langle n r^{n}\\rangle \\newline\n",
    "{}&= \\langle n V\\rangle  \\newline\n",
    "\\boxed{2 \\langle K \\rangle= n\\langle V\\rangle }\n",
    "\\end{aligned}\n",
    "\n",
    "b) "
   ]
  },
  {
   "cell_type": "markdown",
   "metadata": {},
   "source": [
    "2. Una forma alternativa de resolver la ecuación radial del átomo de hidrógeno es por el método de factorización del hamiltoniano como se identifica a continuación:\n",
    "\n",
    "i) Normalizando la energía $\\varepsilon_{nl} = \\frac{2\\hbar^2}{\\mu e^4}E_{nl}$ y la coordenada radial $y=\\frac{\\mu e^2}{\\hbar ^2}r$. Demuestre que la ecuación radial se puede escribir de la forma:\n",
    "\n",
    "\\begin{align}\n",
    "h_l R_{nl}(y) = \\varepsilon_{nl}R_{nl}(y)\n",
    "\\end{align}\n",
    "\n",
    "Donde:\n",
    "\n",
    "\\begin{align}\n",
    "h_l=-\\left( \\frac{d}{dy}+\\frac{1}{y} \\right)^2 + \\frac{l(l+1)}{y^2} - \\frac{2}{y}\n",
    "\\end{align}"
   ]
  },
  {
   "cell_type": "code",
   "execution_count": null,
   "metadata": {},
   "outputs": [],
   "source": []
  }
 ],
 "metadata": {
  "kernelspec": {
   "display_name": "Python 3",
   "language": "python",
   "name": "python3"
  },
  "language_info": {
   "codemirror_mode": {
    "name": "ipython",
    "version": 3
   },
   "file_extension": ".py",
   "mimetype": "text/x-python",
   "name": "python",
   "nbconvert_exporter": "python",
   "pygments_lexer": "ipython3",
   "version": "3.7.4"
  }
 },
 "nbformat": 4,
 "nbformat_minor": 4
}
