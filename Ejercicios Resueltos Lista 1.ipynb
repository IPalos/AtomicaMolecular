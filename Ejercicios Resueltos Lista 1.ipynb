{
 "cells": [
  {
   "cell_type": "code",
   "execution_count": 4,
   "metadata": {},
   "outputs": [],
   "source": [
    "from __future__ import division\n",
    "import scipy.constants as sc\n",
    "import scipy\n",
    "import math\n",
    "import numpy as np\n",
    "from matplotlib import pyplot as plt\n",
    "from sklearn import preprocessing as pp\n",
    "import sympy as sm\n",
    "from sympy.physics import hydrogen as hy\n",
    "from IPython.display import display, Math\n",
    "import pandas as pd\n",
    "\n",
    "%matplotlib inline"
   ]
  },
  {
   "cell_type": "markdown",
   "metadata": {},
   "source": [
    "***"
   ]
  },
  {
   "cell_type": "markdown",
   "metadata": {},
   "source": [
    "## 1. \n",
    "a) Aplique el Teorema Virial a un potencial central $V(r) = r^n$ con $n \\in \\mathbb{Z} $ y demuestre que $2 \\langle K\\rangle = n \\langle V \\rangle$ , donde K es la energía cinética.\n",
    "  \n",
    "b) Para el caso de n = -1, como en un átomo hidrogenoide, demuestre que para el hamiltoniano $\\mathcal{H}$ se cumple que:\n",
    "  \n",
    "\\begin{align}  \n",
    "  \\langle \\mathcal{H} \\rangle = \\frac{1}{2}\\langle V \\rangle = -\\langle K \\rangle = \\frac{Z^2 e^2}{2 a_0 n^2}\n",
    "\\end{align}"
   ]
  },
  {
   "cell_type": "markdown",
   "metadata": {},
   "source": [
    "### Solución\n",
    "a) Utilizando el Teorema Virial Cuántico\n",
    "\n",
    "\\begin{align}\n",
    "\\boxed{2 \\langle K \\rangle = \\sum_n \\langle x_n \\frac{dV}{dx_n}\\rangle}\n",
    "\\end{align}\n",
    "\n",
    "tenemos que \n",
    "\\begin{aligned}\n",
    " 2 \\langle K \\rangle &= \\langle r \\frac{d\\left(r^n\\right)}{dx_n}\\rangle \\newline\n",
    " {}&= \\langle r n r^{n-1}\\rangle  \\newline\n",
    "{}&= \\langle n r^{n}\\rangle \\newline\n",
    "{}&= \\langle n V\\rangle  \\newline\n",
    "\\boxed{2 \\langle K \\rangle= n\\langle V\\rangle }\n",
    "\\end{aligned}"
   ]
  },
  {
   "cell_type": "markdown",
   "metadata": {},
   "source": [
    "***"
   ]
  },
  {
   "cell_type": "markdown",
   "metadata": {},
   "source": [
    "## 2. \n",
    "Una forma alternativa de resolver la ecuación radial del átomo de hidrógeno es por el método de factorización del hamiltoniano como se identifica a continuación:\n",
    "\n",
    "i) Normalizando la energía $\\varepsilon_{nl} = \\frac{2\\hbar^2}{\\mu e^4}E_{nl}$ y la coordenada radial $y=\\frac{\\mu e^2}{\\hbar ^2}r$. Demuestre que la ecuación radial se puede escribir de la forma:\n",
    "\n",
    "\\begin{align}\n",
    "h_l R_{nl}(y) = \\varepsilon_{nl}R_{nl}(y)\n",
    "\\end{align}\n",
    "\n",
    "Donde:\n",
    "\n",
    "\\begin{align}\n",
    "h_l=-\\left( \\frac{d}{dy}+\\frac{1}{y} \\right)^2 + \\frac{l(l+1)}{y^2} - \\frac{2}{y}\n",
    "\\end{align}"
   ]
  },
  {
   "cell_type": "markdown",
   "metadata": {},
   "source": [
    "#### Solución\n",
    "\n",
    "La ecuación de un electrón en un potencial central está dada por \n",
    "\n",
    "\\begin{gather}\n",
    "\\left[\\frac{-\\hbar^2}{2m_0}\\frac{d}{dr^2}+ \\frac{\\hbar^2l(l+1)}{2m_0r^2} +\\frac{e^2}{r}  \\right] R(r) = E_{nl}R(r)\n",
    "\\newline\\newline\\text{Con: }\\newline\\newline\n",
    "E_{nl}=\\frac{m_0e^4}{2\\hbar^2}\\frac{1}{n^2}\n",
    "\\end{gather}\n",
    "\n",
    "\n",
    "Haciendo el cambio de variable $r=\\frac{\\hbar^2}{m_0e^2}y$ tenemos:\n",
    "\\begin{align}\n",
    "    \\begin{cases}\n",
    "      \\frac{d}{dr} =\\frac{m_0e^2}{\\hbar^2}\\frac{d}{dy}\\\\\n",
    "      \\\\\n",
    "      \\frac{d^2}{dr^2} =\\left(\\frac{m_0e^2}{\\hbar^2}\\right)^2\\frac{d^2}{dy^2}\n",
    "    \\end{cases}\n",
    "\\end{align}\n",
    "\n",
    "por lo tanto\n",
    "\n",
    "\\begin{align}\n",
    "-\\frac{e^4m_0}{\\hbar^2}\\left(\\frac{1}{2}\\frac{d^2}{dy^2}-\\frac{1}{y}+\\frac{l(l+1)m_0}{2y^2}\\right)R(y) = \\epsilon_{nl}\\frac{1}{n^2}\n",
    "\\end{align}"
   ]
  },
  {
   "cell_type": "markdown",
   "metadata": {},
   "source": [
    "***"
   ]
  },
  {
   "cell_type": "markdown",
   "metadata": {},
   "source": [
    "## 3. \n",
    "El estado del electrón en un ion $Li^{2^+}$ está descrito por la función de onda normalizada:\n",
    "\n",
    "\\begin{align}\n",
    "\\psi(r,\\theta,\\phi) = -\\frac{1}{\\sqrt{3}}R_{42}(r)Y_2^{-1}(\\theta,\\phi) + \\frac{2i}{3}R_{32}(r)Y_2^1(\\theta,\\phi) - \\sqrt{\\frac{2}{9}}R_{10}(r)Y_0^0(\\theta,\\phi)\n",
    "\\end{align}\n",
    "\n",
    "1. Si se mide la energía total de diferentes iones de $Li^{2^+}$ en este estado ¿Que valores se encontrarán?\n",
    "2. Si se encuentra más de un valor, ¿Cual es la probabilidad de obtener cada resultado y cuál es el valor medio?\n",
    "3. Si se mide la magnitud del momento angular total, qué valores se encontrarán?\n",
    "4. Si hay mas de un valor posible, ¿Cual es la probabilidad de obtener cada resultado?¿Cual es el valor esperado?\n",
    "\n"
   ]
  },
  {
   "cell_type": "markdown",
   "metadata": {},
   "source": [
    "#### Solución:\n",
    "La energía para un átomo hidrogenoide está dada por:\n",
    "\n",
    "\\begin{align}\n",
    "\\boxed{E_{n}=-\\left(\\frac{Z^{2} \\mu e^{4}}{32 \\pi^{2} \\epsilon_{0}^{2} \\hbar^{2}}\\right) \\frac{1}{n^{2}}}\n",
    "\\end{align}\n",
    "\n",
    "1. Como se puede observar, la energía sólo depende del número principal **n**, no del valor de los otros números cuánticos.También podemos observar que el electrón se encuentra en un estado de superposición entre 3 estados con n=4,3 y 1 respectivamente por lo tanto, las energías posibles son $E_4$, $E_3$ y $E_1$, ( calculadas mas abajo)\n",
    "\n",
    "2. La probablilidad de encontrar cada valor está dada por la constante elevada al cuadrado, asociada a sumando de la función. Por lo tanto\n",
    "\n",
    "\\begin{align}\n",
    "P(E_4) = \\frac{1}{3} \\newline\\newline\n",
    "P(E_3) = \\frac{4}{9} \\newline\\newline\n",
    "P(E_1) = \\frac{2}{9}\n",
    "\\end{align}\n",
    "\n",
    "Notemos que la suma de las probabilidades de encontrar cualquiera de las energías posibles es igual a 1.\n",
    "\n",
    "El valor medio de la energía es: \n",
    "\n",
    "\\begin{align}\n",
    "\\langle E \\rangle &=\\langle \\psi (r,\\theta,\\phi ) | H |  \\psi (r,\\theta,\\phi ) \\rangle \\newline\n",
    "{}&= \\langle R_{42}Y_2^{-1}\\; |\\; H \\;|\\; R_{42}Y_2^{-1}\\rangle \\newline &+ \\; \\langle R_{32}Y_2^{1}\\; |\\; H \\;|\\; R_{32}Y_2^{1}\\rangle \\newline &+ \\; \\langle R_{10}Y_0^{0}\\; |\\; H \\;|\\; R_{10}Y_0^{0}\\rangle \\newline\n",
    "\\end{align}\n",
    "\n",
    "\n",
    "El valor de los demás sumandos es cero, ya que los armóincos esféricos son ortonormales, entonces $\\langle \\phi|\\; H \\;| \\psi \\rangle = 0$\n",
    "\n",
    "\n",
    "3. El momento angular está dado por:\n",
    "\n",
    "\\begin{align}\n",
    "\\boxed{L^2 Y^m_l = \\hbar^2 (l+1)l \\;Y^m_l}\n",
    "\\end{align}\n"
   ]
  },
  {
   "cell_type": "code",
   "execution_count": 2,
   "metadata": {},
   "outputs": [
    {
     "name": "stdout",
     "output_type": "stream",
     "text": [
      "Las energías son: \n",
      "\n",
      "\n",
      "E1:  -122.44171084681619  eV\n",
      "E3:  -13.604634538535132  eV\n",
      "E4:  -7.652606927926012  eV\n",
      "\n",
      "\n",
      "El valor medio de la energía es: \n",
      "\n",
      "\n",
      "<E>:  -35.80664229239455  ev\n",
      "\n",
      "\n",
      "Los momentos angulares son son: \n",
      "\n",
      "\n",
      "L1:  1.623049059794292e-33  kg m / s\n",
      "L3:  1.623049059794292e-33  kg m / s\n",
      "L4:  2.2953379927579886e-33  kg m / s\n"
     ]
    }
   ],
   "source": [
    "# Calculo de la energía y momento angular en el problema 3\n",
    "mn=sc.proton_mass*7\n",
    "mu=(mn*sc.electron_mass)/(mn+sc.electron_mass)\n",
    "En = -((9*mu*sc.elementary_charge**4)/(32*(math.pi**2)*sc.epsilon_0*sc.epsilon_0*(sc.hbar**2)))\n",
    "E1 = En/ sc.elementary_charge\n",
    "E3 = En/(9*sc.elementary_charge)\n",
    "E4 = En/(16*sc.elementary_charge)\n",
    "print(\"Las energías son: \\n\\n\")\n",
    "print (\"E1: \",E1,\" eV\")\n",
    "print (\"E3: \",E3,\" eV\")\n",
    "print (\"E4: \",E4,\" eV\")\n",
    "print (\"\\n\\nEl valor medio de la energía es: \\n\\n\")\n",
    "print (\"<E>: \",(E4/3)+(E3*(4/9))+(E1*(2/9)),\" ev\")\n",
    "\n",
    "\n",
    "L1=sc.h * math.sqrt(2*3)\n",
    "L3=sc.h * math.sqrt(2*3)\n",
    "L4=sc.h * math.sqrt(3*4)\n",
    "\n",
    "print(\"\\n\\nLos momentos angulares son son: \\n\\n\")\n",
    "print (\"L1: \",L1,\" kg m / s\")\n",
    "print (\"L3: \",L3,\" kg m / s\")\n",
    "print (\"L4: \",L4,\" kg m / s\")\n",
    "\n"
   ]
  },
  {
   "cell_type": "markdown",
   "metadata": {},
   "source": [
    "***"
   ]
  },
  {
   "cell_type": "markdown",
   "metadata": {},
   "source": [
    "## 4. \n",
    "**a)¿En qué punto del espacio es más probable encontrar al electrón en un orbital hidrogenoide $2p_z$?**\n",
    "\n",
    "**b) ¿Cuál es la probabilidad de encontrar el electrón dentro de una esfera de radio R centrada en el núcleo?**\n"
   ]
  },
  {
   "cell_type": "markdown",
   "metadata": {},
   "source": [
    "### Solución\n",
    "\n",
    "La probabilidad radial de un átomo hidrogenoide está dada por la ecuación:\n",
    "\n",
    "\\begin{align}\n",
    "\\boxed{\\langle nlm |\\; r\\;R_{nl}(r) \\;| nlm \\rangle}\n",
    "\\end{align}\n",
    "\n",
    "donde R(r) es la función de onda radial del átomo hidrogenoide, dada por:\n",
    "\n",
    "\\begin{align}\n",
    "R_{n l}(r)=\\sqrt{\\left(\\frac{2 Z}{n a_{\\mu}}\\right)^{3} \\frac{(n-l-1) !}{2 n[(n+l) !]^{3}}} e^{-Z r / n a_{\\mu}}\\left(\\frac{2 Z r}{n a_{\\mu}}\\right)^{l} L_{n-l-1}^{2 l+1}\\left(\\frac{2 Z r}{n a_{\\mu}}\\right)\n",
    "\\end{align}\n",
    "\n",
    "Para el orbital 2p_z, con Z=1, tenemos que $R_{nl}(r) = R_{21}(r)$ \n",
    "\n",
    "\\begin{align}\n",
    "R_{21}(r) =\\sqrt{\\left(\\frac{1}{4(3!)^3}\\right)}e^{-\\frac{r}{2a_0}}\\frac{r}{a_0} L_0^3\\left(\\frac{r}{a_0}\\right)\n",
    "\\end{align}"
   ]
  },
  {
   "cell_type": "code",
   "execution_count": 93,
   "metadata": {},
   "outputs": [
    {
     "name": "stdout",
     "output_type": "stream",
     "text": [
      "\n",
      "\n",
      "El máximo se encuentra a  4.0  radios de Bohr del centro del átomo\n",
      "\n",
      "\n"
     ]
    },
    {
     "data": {
      "image/png": "[encoded data removed]",
      "text/plain": [
       "<Figure size 432x288 with 1 Axes>"
      ]
     },
     "metadata": {
      "needs_background": "light"
     },
     "output_type": "display_data"
    }
   ],
   "source": [
    "r=np.arange(0,16,0.0001)\n",
    "k= lambda n,l: math.sqrt((2/n)**3*(math.factorial(n-l-1)/(2*n*(math.factorial(n+l)))**3))\n",
    "R = lambda r,n,l: (k(n,l)* (2*r/n)**l * np.exp(-r/n) * scipy.special.genlaguerre(n-l-1,2*l+1)(2*r/n)) #FUNCION RADIAL\n",
    "WF= lambda r,n,l : r*R(r,n,l)\n",
    "sqrWF=lambda r,n,l : abs(WF(r,n,l)**2)\n",
    "fig = plt.figure()\n",
    "R21=sqrWF(r,2,1)\n",
    "maxr21=max(R21)\n",
    "plt.plot(r,R21)\n",
    "for i in range(len(r)):\n",
    "    if R21[i] ==maxr21 :\n",
    "        plt.scatter(r[i],R21[i],color=\"red\",marker=\"o\")\n",
    "        print (\"\\n\\nEl máximo se encuentra a \",r[i],\" radios de Bohr del centro del átomo\\n\\n\")\n",
    "        break"
   ]
  },
  {
   "cell_type": "markdown",
   "metadata": {},
   "source": [
    "Para calcular la probabilidad de un electrón dentro de una esfera de radio R centrada en el núcleo, tenemos que resolver la integral:\n",
    "\n",
    "\\begin{align}\n",
    "\\int_0^R r^2|R_{21}(r)|^2 dr &=\\int_0^R r^2 |K^2 e^{-r} r^2 | dr \\newline\\newline\n",
    "{}&= K^2 \\int_0^R r^4e^{-r} dr  \\newline\n",
    "\\end{align}"
   ]
  },
  {
   "cell_type": "code",
   "execution_count": 65,
   "metadata": {},
   "outputs": [
    {
     "name": "stdout",
     "output_type": "stream",
     "text": [
      "\n",
      "\n",
      " La probabilidad de encontrar un electrón 2pz en una esfera de radio R es: \n"
     ]
    },
    {
     "data": {
      "text/latex": [
       "$\\displaystyle K \\left(- R^{4} - 4 R^{3} - 12 R^{2} - 24 R + 24 e^{R} - 24\\right) e^{- R}$"
      ],
      "text/plain": [
       "K*(-R**4 - 4*R**3 - 12*R**2 - 24*R + 24*exp(R) - 24)*exp(-R)"
      ]
     },
     "execution_count": 65,
     "metadata": {},
     "output_type": "execute_result"
    }
   ],
   "source": [
    "#Calculo de la integral\n",
    "r=sm.Symbol(\"r\",real=True)\n",
    "R=sm.Symbol(\"R\")\n",
    "K=sm.Symbol(\"K\")\n",
    "res= sm.simplify( sm.integrate(K*sm.exp(-r)*r**4,(r,0,R)) )\n",
    "\n",
    "print (\"\\n\\n La probabilidad de encontrar un electrón 2pz en una esfera de radio R es: \")\n",
    "res"
   ]
  },
  {
   "cell_type": "markdown",
   "metadata": {},
   "source": [
    "******"
   ]
  },
  {
   "cell_type": "markdown",
   "metadata": {},
   "source": [
    "# 5.\n",
    "**Los elementos de matriz del operador momento dipolar $\\hat{p} =e\\hat{r}$ entre dos estados $\\psi_1 , \\psi_2$ se definen como $\\hat{p}_{12} = \\langle \\psi_1 | e\\hat{r}|\\psi_2\\rangle$. Calcule los elementos de matriz de $\\hat{p}$ cuando:**\n",
    "1. $\\psi_1 =\\psi_2 = \\psi_{100}$\n",
    "2. $\\psi_1= \\psi_{100}, \\psi_2 = \\psi_{200}$\n",
    "3. $\\psi_1= \\psi_{100}, \\psi_2 = \\psi_{210}$ \n",
    "4. $\\psi_1= \\psi_{100}, \\psi_2 = \\psi_{211}$\n",
    "5. $\\psi_1= \\psi_{100}, \\psi_2 = \\psi_{21-1}$ "
   ]
  },
  {
   "cell_type": "markdown",
   "metadata": {},
   "source": [
    "### Solución"
   ]
  },
  {
   "cell_type": "code",
   "execution_count": 15,
   "metadata": {},
   "outputs": [],
   "source": [
    "# Calcula los elementos de la matriz\n",
    "\n",
    "\n",
    "theta=sm.Symbol(\"theta\")\n",
    "phi=sm.Symbol(\"phi\")\n",
    "pi=sm.Symbol(\"pi\")\n",
    "p_100 = hy.Psi_nlm(1,0,0,r,theta,phi)\n",
    "p_200 = hy.Psi_nlm(2,0,0,r,theta,phi)\n",
    "p_210 = hy.Psi_nlm(2,1,0,r,theta,phi)\n",
    "p_211 = hy.Psi_nlm(2,1,1,r,theta,phi)\n",
    "p_21_1 = hy.Psi_nlm(2,1,-1,r,theta,phi)"
   ]
  },
  {
   "cell_type": "code",
   "execution_count": 16,
   "metadata": {},
   "outputs": [
    {
     "data": {
      "text/latex": [
       "$\\displaystyle \\langle 100 |\\; \\hat{p} \\;|100\\rangle = {}$"
      ],
      "text/plain": [
       "<IPython.core.display.Math object>"
      ]
     },
     "metadata": {},
     "output_type": "display_data"
    },
    {
     "data": {
      "text/latex": [
       "$\\displaystyle \\frac{3}{8 \\pi}$"
      ],
      "text/plain": [
       "3/(8*pi)"
      ]
     },
     "metadata": {},
     "output_type": "display_data"
    }
   ],
   "source": [
    "#Solución de 5.1\n",
    "_=sm.integrate(sm.conjugate(p_100)*r**3*p_100,(r,0,sm.oo))\n",
    "display(Math(r'\\langle 100 |\\; \\hat{p} \\;|100\\rangle = {}'),_)"
   ]
  },
  {
   "cell_type": "code",
   "execution_count": 17,
   "metadata": {},
   "outputs": [
    {
     "data": {
      "text/latex": [
       "$\\displaystyle \\langle 100 |\\; \\hat{p} \\;|200\\rangle = {}$"
      ],
      "text/plain": [
       "<IPython.core.display.Math object>"
      ]
     },
     "metadata": {},
     "output_type": "display_data"
    },
    {
     "data": {
      "text/latex": [
       "$\\displaystyle - \\frac{8 \\sqrt{2}}{81 \\pi}$"
      ],
      "text/plain": [
       "-8*sqrt(2)/(81*pi)"
      ]
     },
     "metadata": {},
     "output_type": "display_data"
    }
   ],
   "source": [
    "#Solución de 5.2\n",
    "_=sm.integrate(sm.conjugate(p_100)*r**3*p_200,(r,0,sm.oo))\n",
    "display(Math(r'\\langle 100 |\\; \\hat{p} \\;|200\\rangle = {}'),_)"
   ]
  },
  {
   "cell_type": "code",
   "execution_count": 18,
   "metadata": {},
   "outputs": [
    {
     "data": {
      "text/latex": [
       "$\\displaystyle \\langle 100 |\\; \\hat{p} \\;|210\\rangle = {}$"
      ],
      "text/plain": [
       "<IPython.core.display.Math object>"
      ]
     },
     "metadata": {},
     "output_type": "display_data"
    },
    {
     "data": {
      "text/latex": [
       "$\\displaystyle \\frac{16 \\sqrt{2} \\sin^{2}{\\left(\\pi \\right)}}{81 \\pi}$"
      ],
      "text/plain": [
       "16*sqrt(2)*sin(pi)**2/(81*pi)"
      ]
     },
     "metadata": {},
     "output_type": "display_data"
    },
    {
     "data": {
      "text/latex": [
       "$\\displaystyle =0$"
      ],
      "text/plain": [
       "<IPython.core.display.Math object>"
      ]
     },
     "metadata": {},
     "output_type": "display_data"
    }
   ],
   "source": [
    "#Solución de 5.3\n",
    "_=sm.integrate(sm.conjugate(p_100)*r**3*p_210,(r,0,sm.oo))\n",
    "_=sm.integrate(_*sm.sin(phi),(phi,0,pi))\n",
    "display(Math(r'\\langle 100 |\\; \\hat{p} \\;|210\\rangle = {}'),_)\n",
    "display(Math(r'=0'))"
   ]
  },
  {
   "cell_type": "code",
   "execution_count": 19,
   "metadata": {},
   "outputs": [
    {
     "data": {
      "text/latex": [
       "$\\displaystyle \\langle 100 |\\; \\hat{p} \\;|211\\rangle = {}$"
      ],
      "text/plain": [
       "<IPython.core.display.Math object>"
      ]
     },
     "metadata": {},
     "output_type": "display_data"
    },
    {
     "data": {
      "text/latex": [
       "$\\displaystyle \\frac{4 \\left(- 4 i \\pi e^{2 i \\pi} + \\left(4 i \\pi e^{2 i \\pi} - e^{4 i \\pi} + 1\\right) e^{2 i \\pi} + e^{4 i \\pi} - 1\\right) e^{- 2 i \\pi}}{81 \\pi}$"
      ],
      "text/plain": [
       "4*(-4*I*pi*exp(2*I*pi) + (4*I*pi*exp(2*I*pi) - exp(4*I*pi) + 1)*exp(2*I*pi) + exp(4*I*pi) - 1)*exp(-2*I*pi)/(81*pi)"
      ]
     },
     "metadata": {},
     "output_type": "display_data"
    },
    {
     "data": {
      "text/latex": [
       "$\\displaystyle =0$"
      ],
      "text/plain": [
       "<IPython.core.display.Math object>"
      ]
     },
     "metadata": {},
     "output_type": "display_data"
    }
   ],
   "source": [
    "#Solución de 5.4\n",
    "_=sm.integrate(sm.conjugate(p_100)*r**3*p_211,(r,0,sm.oo))\n",
    "_=sm.integrate(_*sm.sin(phi),(phi,0,pi))\n",
    "_=sm.integrate(_,(theta,0,2*pi))\n",
    "_=sm.simplify(_)\n",
    "display(Math(r'\\langle 100 |\\; \\hat{p} \\;|211\\rangle = {}'),_)\n",
    "display(Math(r'=0'))"
   ]
  },
  {
   "cell_type": "code",
   "execution_count": 20,
   "metadata": {},
   "outputs": [
    {
     "data": {
      "text/latex": [
       "$\\displaystyle \\langle 100 |\\; \\hat{p} \\;|21-1\\rangle = {}$"
      ],
      "text/plain": [
       "<IPython.core.display.Math object>"
      ]
     },
     "metadata": {},
     "output_type": "display_data"
    },
    {
     "data": {
      "text/latex": [
       "$\\displaystyle \\frac{4 \\left(4 i \\pi e^{2 i \\pi} + \\left(- 4 i \\pi e^{2 i \\pi} + e^{4 i \\pi} - 1\\right) e^{2 i \\pi} - e^{4 i \\pi} + 1\\right) e^{- 4 i \\pi}}{81 \\pi}$"
      ],
      "text/plain": [
       "4*(4*I*pi*exp(2*I*pi) + (-4*I*pi*exp(2*I*pi) + exp(4*I*pi) - 1)*exp(2*I*pi) - exp(4*I*pi) + 1)*exp(-4*I*pi)/(81*pi)"
      ]
     },
     "metadata": {},
     "output_type": "display_data"
    },
    {
     "data": {
      "text/latex": [
       "$\\displaystyle =0$"
      ],
      "text/plain": [
       "<IPython.core.display.Math object>"
      ]
     },
     "metadata": {},
     "output_type": "display_data"
    }
   ],
   "source": [
    "#Solución de 5.5\n",
    "_=sm.integrate(sm.conjugate(p_100)*r**3*p_21_1,(r,0,sm.oo))\n",
    "_=sm.integrate(_*sm.sin(phi),(phi,0,pi))\n",
    "_=sm.integrate(_,(theta,0,2*pi))\n",
    "_=sm.simplify(_)\n",
    "display(Math(r'\\langle 100 |\\; \\hat{p} \\;|21-1\\rangle = {}'),_)\n",
    "display(Math(r'=0'))"
   ]
  },
  {
   "cell_type": "markdown",
   "metadata": {},
   "source": [
    "***"
   ]
  },
  {
   "cell_type": "markdown",
   "metadata": {},
   "source": [
    "# 6.\n",
    "**Utilizando las reglas de Slater para estimar la carga nuclear efectiva $Z^*$ por apantallamiento en átomos de muchos electrones, obtenga $Z^*$ para los siguientes orbitales y lista de átomos ( enliste sus resultados en una tabla y consulte las configuraciones electrónicas de los estados base en una Tabla Periódica):**\n",
    "1. Un orbital 3d recorriendo átomos desde H(Z=1) hasta K(Z=19)\n",
    "2. Un orbital 4s recorriendo también átomos desde H(Z=1) hasta K(Z=19)\n",
    "3. ¿Que interpretación se le puede dar a sus resultados en cuanto a la dependencia de las energías orbitales 3d y 4s?\n",
    "4. ¿Que consecuencia tiene lo anterior respecto al llenado de orbitales 3d y 4s?"
   ]
  },
  {
   "cell_type": "code",
   "execution_count": 37,
   "metadata": {},
   "outputs": [],
   "source": [
    "#FUNCION AUXILIAR\n",
    "def calculateScreening(np,n,l):\n",
    "    if np==1 and n==1:\n",
    "        return 0.3\n",
    "    if l in (\"s\",\"p\"):\n",
    "        if n==np:\n",
    "            return 0.35\n",
    "        elif n==np-1:\n",
    "            return 0.85\n",
    "        elif n<np-1:\n",
    "            return 1\n",
    "        else:\n",
    "            return 0\n",
    "    if l in (\"d\",\"f\"):\n",
    "        if n==np:\n",
    "            return 0.35\n",
    "        elif n<np:\n",
    "            return 1\n",
    "        else:\n",
    "            return 0"
   ]
  },
  {
   "cell_type": "code",
   "execution_count": 53,
   "metadata": {},
   "outputs": [
    {
     "data": {
      "text/html": [
       "<div>\n",
       "<style scoped>\n",
       "    .dataframe tbody tr th:only-of-type {\n",
       "        vertical-align: middle;\n",
       "    }\n",
       "\n",
       "    .dataframe tbody tr th {\n",
       "        vertical-align: top;\n",
       "    }\n",
       "\n",
       "    .dataframe thead th {\n",
       "        text-align: right;\n",
       "    }\n",
       "</style>\n",
       "<table border=\"1\" class=\"dataframe\">\n",
       "  <thead>\n",
       "    <tr style=\"text-align: right;\">\n",
       "      <th></th>\n",
       "      <th>Z</th>\n",
       "      <th>Configuración Electrónica</th>\n",
       "      <th>Z*3d</th>\n",
       "      <th>Z*4s</th>\n",
       "      <th>Carga efectiva 3d</th>\n",
       "      <th>Carga efectiva 4s</th>\n",
       "    </tr>\n",
       "  </thead>\n",
       "  <tbody>\n",
       "    <tr>\n",
       "      <td>1</td>\n",
       "      <td>1</td>\n",
       "      <td>1s_1</td>\n",
       "      <td>0.00</td>\n",
       "      <td>0.00</td>\n",
       "      <td>1.00</td>\n",
       "      <td>1.00</td>\n",
       "    </tr>\n",
       "    <tr>\n",
       "      <td>2</td>\n",
       "      <td>2</td>\n",
       "      <td>1s_2</td>\n",
       "      <td>1.00</td>\n",
       "      <td>1.00</td>\n",
       "      <td>1.00</td>\n",
       "      <td>1.00</td>\n",
       "    </tr>\n",
       "    <tr>\n",
       "      <td>3</td>\n",
       "      <td>3</td>\n",
       "      <td>2s_1</td>\n",
       "      <td>1.85</td>\n",
       "      <td>2.00</td>\n",
       "      <td>1.15</td>\n",
       "      <td>1.00</td>\n",
       "    </tr>\n",
       "    <tr>\n",
       "      <td>4</td>\n",
       "      <td>4</td>\n",
       "      <td>2s_2</td>\n",
       "      <td>2.70</td>\n",
       "      <td>3.00</td>\n",
       "      <td>1.30</td>\n",
       "      <td>1.00</td>\n",
       "    </tr>\n",
       "    <tr>\n",
       "      <td>5</td>\n",
       "      <td>5</td>\n",
       "      <td>2p_1</td>\n",
       "      <td>3.55</td>\n",
       "      <td>4.00</td>\n",
       "      <td>1.45</td>\n",
       "      <td>1.00</td>\n",
       "    </tr>\n",
       "    <tr>\n",
       "      <td>6</td>\n",
       "      <td>6</td>\n",
       "      <td>2p_2</td>\n",
       "      <td>4.40</td>\n",
       "      <td>5.00</td>\n",
       "      <td>1.60</td>\n",
       "      <td>1.00</td>\n",
       "    </tr>\n",
       "    <tr>\n",
       "      <td>7</td>\n",
       "      <td>7</td>\n",
       "      <td>2p_3</td>\n",
       "      <td>5.25</td>\n",
       "      <td>6.00</td>\n",
       "      <td>1.75</td>\n",
       "      <td>1.00</td>\n",
       "    </tr>\n",
       "    <tr>\n",
       "      <td>8</td>\n",
       "      <td>8</td>\n",
       "      <td>2p_4</td>\n",
       "      <td>6.10</td>\n",
       "      <td>7.00</td>\n",
       "      <td>1.90</td>\n",
       "      <td>1.00</td>\n",
       "    </tr>\n",
       "    <tr>\n",
       "      <td>9</td>\n",
       "      <td>9</td>\n",
       "      <td>2p_5</td>\n",
       "      <td>6.95</td>\n",
       "      <td>8.00</td>\n",
       "      <td>2.05</td>\n",
       "      <td>1.00</td>\n",
       "    </tr>\n",
       "    <tr>\n",
       "      <td>10</td>\n",
       "      <td>10</td>\n",
       "      <td>2p_6</td>\n",
       "      <td>7.80</td>\n",
       "      <td>9.00</td>\n",
       "      <td>2.20</td>\n",
       "      <td>1.00</td>\n",
       "    </tr>\n",
       "    <tr>\n",
       "      <td>11</td>\n",
       "      <td>11</td>\n",
       "      <td>3s_1</td>\n",
       "      <td>8.15</td>\n",
       "      <td>9.85</td>\n",
       "      <td>2.85</td>\n",
       "      <td>1.15</td>\n",
       "    </tr>\n",
       "    <tr>\n",
       "      <td>12</td>\n",
       "      <td>12</td>\n",
       "      <td>3s_2</td>\n",
       "      <td>8.50</td>\n",
       "      <td>10.70</td>\n",
       "      <td>3.50</td>\n",
       "      <td>1.30</td>\n",
       "    </tr>\n",
       "    <tr>\n",
       "      <td>13</td>\n",
       "      <td>13</td>\n",
       "      <td>3p_1</td>\n",
       "      <td>8.85</td>\n",
       "      <td>11.55</td>\n",
       "      <td>4.15</td>\n",
       "      <td>1.45</td>\n",
       "    </tr>\n",
       "    <tr>\n",
       "      <td>14</td>\n",
       "      <td>14</td>\n",
       "      <td>3p_2</td>\n",
       "      <td>9.20</td>\n",
       "      <td>12.40</td>\n",
       "      <td>4.80</td>\n",
       "      <td>1.60</td>\n",
       "    </tr>\n",
       "    <tr>\n",
       "      <td>15</td>\n",
       "      <td>15</td>\n",
       "      <td>3p_3</td>\n",
       "      <td>9.55</td>\n",
       "      <td>13.25</td>\n",
       "      <td>5.45</td>\n",
       "      <td>1.75</td>\n",
       "    </tr>\n",
       "    <tr>\n",
       "      <td>16</td>\n",
       "      <td>16</td>\n",
       "      <td>3p_4</td>\n",
       "      <td>9.90</td>\n",
       "      <td>14.10</td>\n",
       "      <td>6.10</td>\n",
       "      <td>1.90</td>\n",
       "    </tr>\n",
       "    <tr>\n",
       "      <td>17</td>\n",
       "      <td>17</td>\n",
       "      <td>3p_5</td>\n",
       "      <td>10.25</td>\n",
       "      <td>14.95</td>\n",
       "      <td>6.75</td>\n",
       "      <td>2.05</td>\n",
       "    </tr>\n",
       "    <tr>\n",
       "      <td>18</td>\n",
       "      <td>18</td>\n",
       "      <td>3p_6</td>\n",
       "      <td>10.60</td>\n",
       "      <td>15.80</td>\n",
       "      <td>7.40</td>\n",
       "      <td>2.20</td>\n",
       "    </tr>\n",
       "    <tr>\n",
       "      <td>19</td>\n",
       "      <td>19</td>\n",
       "      <td>3d_1</td>\n",
       "      <td>10.95</td>\n",
       "      <td>16.80</td>\n",
       "      <td>8.05</td>\n",
       "      <td>2.20</td>\n",
       "    </tr>\n",
       "  </tbody>\n",
       "</table>\n",
       "</div>"
      ],
      "text/plain": [
       "     Z Configuración Electrónica   Z*3d   Z*4s  Carga efectiva 3d  \\\n",
       "1    1                      1s_1   0.00   0.00               1.00   \n",
       "2    2                      1s_2   1.00   1.00               1.00   \n",
       "3    3                      2s_1   1.85   2.00               1.15   \n",
       "4    4                      2s_2   2.70   3.00               1.30   \n",
       "5    5                      2p_1   3.55   4.00               1.45   \n",
       "6    6                      2p_2   4.40   5.00               1.60   \n",
       "7    7                      2p_3   5.25   6.00               1.75   \n",
       "8    8                      2p_4   6.10   7.00               1.90   \n",
       "9    9                      2p_5   6.95   8.00               2.05   \n",
       "10  10                      2p_6   7.80   9.00               2.20   \n",
       "11  11                      3s_1   8.15   9.85               2.85   \n",
       "12  12                      3s_2   8.50  10.70               3.50   \n",
       "13  13                      3p_1   8.85  11.55               4.15   \n",
       "14  14                      3p_2   9.20  12.40               4.80   \n",
       "15  15                      3p_3   9.55  13.25               5.45   \n",
       "16  16                      3p_4   9.90  14.10               6.10   \n",
       "17  17                      3p_5  10.25  14.95               6.75   \n",
       "18  18                      3p_6  10.60  15.80               7.40   \n",
       "19  19                      3d_1  10.95  16.80               8.05   \n",
       "\n",
       "    Carga efectiva 4s  \n",
       "1                1.00  \n",
       "2                1.00  \n",
       "3                1.00  \n",
       "4                1.00  \n",
       "5                1.00  \n",
       "6                1.00  \n",
       "7                1.00  \n",
       "8                1.00  \n",
       "9                1.00  \n",
       "10               1.00  \n",
       "11               1.15  \n",
       "12               1.30  \n",
       "13               1.45  \n",
       "14               1.60  \n",
       "15               1.75  \n",
       "16               1.90  \n",
       "17               2.05  \n",
       "18               2.20  \n",
       "19               2.20  "
      ]
     },
     "execution_count": 53,
     "metadata": {},
     "output_type": "execute_result"
    }
   ],
   "source": [
    "z=[i for i in range(1,20)]\n",
    "z3d=[0,.3,.6,]\n",
    "electron_configuration=[\"1s_1\",\"1s_2\",\"2s_1\",\"2s_2\",\"2p_1\",\"2p_2\",\"2p_3\",\"2p_4\",\"2p_5\",\"2p_6\",\"3s_1\",\"3s_2\",\"3p_1\",\"3p_2\",\"3p_3\",\"3p_4\",\"3p_5\",\"3p_6\",\"3d_1\"]\n",
    "data={\"Z\":z,\n",
    "  \"Configuración Electrónica\":electron_configuration,\n",
    "  \"Z*3d\":z,\n",
    "  \"Z*4s\":z,\n",
    "  \"Carga efectiva 3d\":z,\n",
    "  \"Carga efectiva 4s\":z}\n",
    "data[\"Z*3d\"]=[]\n",
    "data[\"Z*4s\"]=[]\n",
    "for j in z:\n",
    "    temp=-1\n",
    "    temp4=-1\n",
    "    for i in (electron_configuration[:j]):\n",
    "        temp+=calculateScreening(3,int(i[0]),i[1])\n",
    "        temp4+=calculateScreening(4,int(i[0]),i[1])\n",
    "    data[\"Z*3d\"].append(temp)\n",
    "    data[\"Z*4s\"].append(temp4)\n",
    "\n",
    "\n",
    "tabla=pd.DataFrame(data,columns=data.keys(),index=data[\"Z\"])\n",
    "tabla[\"Carga efectiva 3d\"]=tabla[\"Z\"]-tabla[\"Z*3d\"]\n",
    "tabla[\"Carga efectiva 4s\"]=tabla[\"Z\"]-tabla[\"Z*4s\"]\n",
    "tabla"
   ]
  },
  {
   "cell_type": "code",
   "execution_count": 55,
   "metadata": {},
   "outputs": [
    {
     "data": {
      "text/plain": [
       "<matplotlib.axes._subplots.AxesSubplot at 0x1a20b81110>"
      ]
     },
     "execution_count": 55,
     "metadata": {},
     "output_type": "execute_result"
    },
    {
     "data": {
      "image/png": "[encoded data removed]",
      "text/plain": [
       "<Figure size 432x288 with 1 Axes>"
      ]
     },
     "metadata": {
      "needs_background": "light"
     },
     "output_type": "display_data"
    }
   ],
   "source": [
    "tabla[[\"Carga efectiva 3d\",\"Carga efectiva 4s\"]].plot(title=\"Carga Efectiva\")"
   ]
  },
  {
   "cell_type": "markdown",
   "metadata": {},
   "source": [
    "***"
   ]
  },
  {
   "cell_type": "markdown",
   "metadata": {},
   "source": [
    "# 7.\n",
    "**La densidad de probabilidad radiale de un atomo hidrogenoide de arga nuclear Z está dada por: $D_{nl}=(rR_{nl})^2$ donde $R_{nl}(r)$ son las funciones radiales. En unidades atómicas, las funciones radiales que corresponden a orbitales 3d y 4s, es decir, para n=(3,4) l=(2,0) son las siguientes:**"
   ]
  },
  {
   "cell_type": "code",
   "execution_count": 66,
   "metadata": {},
   "outputs": [
    {
     "data": {
      "text/latex": [
       "$\\displaystyle R_{32}=$"
      ],
      "text/plain": [
       "<IPython.core.display.Math object>"
      ]
     },
     "metadata": {},
     "output_type": "display_data"
    },
    {
     "data": {
      "text/latex": [
       "$\\displaystyle \\frac{2 \\sqrt{30} Z^{2} r^{2} \\sqrt{Z^{3}} e^{- \\frac{Z r}{3}}}{1215}$"
      ],
      "text/plain": [
       "2*sqrt(30)*Z**2*r**2*sqrt(Z**3)*exp(-Z*r/3)/1215"
      ]
     },
     "metadata": {},
     "output_type": "display_data"
    },
    {
     "data": {
      "text/latex": [
       "$\\displaystyle R_{40}=$"
      ],
      "text/plain": [
       "<IPython.core.display.Math object>"
      ]
     },
     "metadata": {},
     "output_type": "display_data"
    },
    {
     "data": {
      "text/latex": [
       "$\\displaystyle \\frac{\\left(- \\frac{Z^{3} r^{3}}{48} + \\frac{Z^{2} r^{2}}{2} - 3 Z r + 4\\right) \\sqrt{Z^{3}} e^{- \\frac{Z r}{4}}}{16}$"
      ],
      "text/plain": [
       "(-Z**3*r**3/48 + Z**2*r**2/2 - 3*Z*r + 4)*sqrt(Z**3)*exp(-Z*r/4)/16"
      ]
     },
     "metadata": {},
     "output_type": "display_data"
    }
   ],
   "source": [
    "z=sm.Symbol(\"Z\")\n",
    "display(Math(r'R_{32}='),hy.R_nl(3,2,r,z))\n",
    "display(Math(r'R_{40}='),hy.R_nl(4,0,r,z))"
   ]
  },
  {
   "cell_type": "markdown",
   "metadata": {},
   "source": [
    "**Usando algun software de su preferencia, y tomando Z=1, grafique lo siguiente:**\n",
    "1. Las funciones $R_{32} $y $R_{40}$\n",
    "2. Las densidades de probabilidad $D_{32}$ y $D_{40}$\n",
    "3. Compare el dominio de posibles valores de r para cada caso del inciso anterior ( de manera gráfica o numérica) definiendo un valor mínimo y máximo de r para describir la región donde el electrón puede ubicarse hasta cierto valor pequeño de probabilidad."
   ]
  },
  {
   "cell_type": "code",
   "execution_count": 113,
   "metadata": {},
   "outputs": [
    {
     "name": "stdout",
     "output_type": "stream",
     "text": [
      "\n",
      "\n"
     ]
    },
    {
     "data": {
      "text/latex": [
       "$\\displaystyle R_{32}$"
      ],
      "text/plain": [
       "<IPython.core.display.Math object>"
      ]
     },
     "metadata": {},
     "output_type": "display_data"
    },
    {
     "name": "stdout",
     "output_type": "stream",
     "text": [
      "\n",
      "\n"
     ]
    },
    {
     "data": {
      "text/plain": [
       "[<matplotlib.lines.Line2D at 0x1a4eab8b10>]"
      ]
     },
     "execution_count": 113,
     "metadata": {},
     "output_type": "execute_result"
    },
    {
     "data": {
      "image/png": "[encoded data removed]",
      "text/plain": [
       "<Figure size 432x288 with 1 Axes>"
      ]
     },
     "metadata": {
      "needs_background": "light"
     },
     "output_type": "display_data"
    }
   ],
   "source": [
    "\n",
    "r=np.arange(0,30,0.0001)\n",
    "\n",
    "R32=R(r,3,2)\n",
    "print(\"\\n\")\n",
    "display(Math(r'R_{32}'))\n",
    "print(\"\\n\")\n",
    "\n",
    "\n",
    "plt.plot(r,R32)\n"
   ]
  },
  {
   "cell_type": "code",
   "execution_count": 116,
   "metadata": {},
   "outputs": [
    {
     "name": "stdout",
     "output_type": "stream",
     "text": [
      "\n",
      "\n"
     ]
    },
    {
     "data": {
      "text/latex": [
       "$\\displaystyle R_{40}$"
      ],
      "text/plain": [
       "<IPython.core.display.Math object>"
      ]
     },
     "metadata": {},
     "output_type": "display_data"
    },
    {
     "name": "stdout",
     "output_type": "stream",
     "text": [
      "\n",
      "\n"
     ]
    },
    {
     "data": {
      "text/plain": [
       "[<matplotlib.lines.Line2D at 0x1a56508cd0>]"
      ]
     },
     "execution_count": 116,
     "metadata": {},
     "output_type": "execute_result"
    },
    {
     "data": {
      "image/png": "[encoded data removed]",
      "text/plain": [
       "<Figure size 432x288 with 1 Axes>"
      ]
     },
     "metadata": {
      "needs_background": "light"
     },
     "output_type": "display_data"
    }
   ],
   "source": [
    "r=np.arange(0,50,0.0001)\n",
    "R40=R(r,4,0)\n",
    "print(\"\\n\")\n",
    "display(Math(r'R_{40}'))\n",
    "print(\"\\n\")\n",
    "\n",
    "\n",
    "plt.plot(r,R40)"
   ]
  },
  {
   "cell_type": "code",
   "execution_count": 112,
   "metadata": {},
   "outputs": [
    {
     "name": "stdout",
     "output_type": "stream",
     "text": [
      "\n",
      "\n"
     ]
    },
    {
     "data": {
      "text/latex": [
       "$\\displaystyle D_{32}$"
      ],
      "text/plain": [
       "<IPython.core.display.Math object>"
      ]
     },
     "metadata": {},
     "output_type": "display_data"
    },
    {
     "name": "stdout",
     "output_type": "stream",
     "text": [
      "\n",
      "\n"
     ]
    },
    {
     "data": {
      "text/plain": [
       "[<matplotlib.lines.Line2D at 0x1a442916d0>]"
      ]
     },
     "execution_count": 112,
     "metadata": {},
     "output_type": "execute_result"
    },
    {
     "data": {
      "image/png": "[encoded data removed]",
      "text/plain": [
       "<Figure size 432x288 with 1 Axes>"
      ]
     },
     "metadata": {
      "needs_background": "light"
     },
     "output_type": "display_data"
    }
   ],
   "source": [
    "r=np.arange(0,30,0.0001)\n",
    "D32=sqrWF(r,3,2)\n",
    "print(\"\\n\")\n",
    "display(Math(r'D_{32}'))\n",
    "print(\"\\n\")\n",
    "\n",
    "\n",
    "plt.plot(r,D32)"
   ]
  },
  {
   "cell_type": "code",
   "execution_count": 110,
   "metadata": {},
   "outputs": [
    {
     "name": "stdout",
     "output_type": "stream",
     "text": [
      "\n",
      "\n"
     ]
    },
    {
     "data": {
      "text/latex": [
       "$\\displaystyle D_{40}$"
      ],
      "text/plain": [
       "<IPython.core.display.Math object>"
      ]
     },
     "metadata": {},
     "output_type": "display_data"
    },
    {
     "name": "stdout",
     "output_type": "stream",
     "text": [
      "\n",
      "\n"
     ]
    },
    {
     "data": {
      "text/plain": [
       "[<matplotlib.lines.Line2D at 0x1a4c7d2750>]"
      ]
     },
     "execution_count": 110,
     "metadata": {},
     "output_type": "execute_result"
    },
    {
     "data": {
      "image/png": "[encoded data removed]",
      "text/plain": [
       "<Figure size 432x288 with 1 Axes>"
      ]
     },
     "metadata": {
      "needs_background": "light"
     },
     "output_type": "display_data"
    }
   ],
   "source": [
    "r=np.arange(0,50,0.0001)\n",
    "D40=sqrWF(r,4,0)\n",
    "print(\"\\n\")\n",
    "display(Math(r'D_{40}'))\n",
    "print(\"\\n\")\n",
    "\n",
    "\n",
    "plt.plot(r,D40)"
   ]
  },
  {
   "cell_type": "code",
   "execution_count": null,
   "metadata": {},
   "outputs": [],
   "source": []
  }
 ],
 "metadata": {
  "kernelspec": {
   "display_name": "Python 3",
   "language": "python",
   "name": "python3"
  },
  "language_info": {
   "codemirror_mode": {
    "name": "ipython",
    "version": 3
   },
   "file_extension": ".py",
   "mimetype": "text/x-python",
   "name": "python",
   "nbconvert_exporter": "python",
   "pygments_lexer": "ipython3",
   "version": "3.7.4"
  }
 },
 "nbformat": 4,
 "nbformat_minor": 4
}
