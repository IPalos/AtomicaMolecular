{
 "cells": [
  {
   "cell_type": "markdown",
   "metadata": {},
   "source": [
    "## Índice\n",
    "1. [Problema 1](#Problema1)\n",
    "2. [Problema 2](#Problema2)\n",
    "3. [Problema 3](#Problema3)\n",
    "4. [Problema 4](#Problema4)\n",
    "5. [Problema 5](#Problema5)\n",
    "6. [Problema 6](#Problema6)\n",
    "7. [Problema 7](#Problema7)\n",
    "8. [Problema 8](#Problema8)\n",
    "9. [Problema 9](#Problema9)\n",
    "10. [Problema 10](#Problema10) \n",
    "11. [Problema 11](#Problema11)\n",
    "12. [Problema 12](#Problema12)\n",
    "13. [Problema 13](#Problema13)\n",
    "14. [Problema 14](#Problema14)\n",
    "15. [Problema 15](#Problema15)"
   ]
  },
  {
   "cell_type": "markdown",
   "metadata": {},
   "source": [
    "# <span id=\"Problema1\"> 1. Dé el valor numérico en unidades atómicas de cada una de las siguientes cantidades: \n",
    "    \n",
    "    (a) La masa del protón \n",
    "    (b) La carga del electrón\n",
    "    (c) La constante de Planck\n",
    "    (d) La energía del estado base del ion He+ suponiendo que la masa nuclear es infinita\n",
    "    (e) Un segundo\n",
    "    (f) La velocidad de la luz c\n",
    "    (g) La energía del estado base del hidrogeno suponiendo que la masa nuclear es finita\n",
    "    (h) Un Debye = 1 eÅ (unidad de dipolo eléctrico) donde e es la carga electrónica"
   ]
  },
  {
   "cell_type": "markdown",
   "metadata": {},
   "source": [
    "## Solución:\n",
    "Masa del proton: $m_p(u.a)=\\frac{m_p(mks)}{m_e(mks)}$\n",
    "\n",
    "Un Segundo: $1s = \\frac{\\hbar}{E_h}$\n",
    "\n"
   ]
  },
  {
   "cell_type": "code",
   "execution_count": 33,
   "metadata": {},
   "outputs": [
    {
     "name": "stdout",
     "output_type": "stream",
     "text": [
      "RESULTADOS: \n",
      "\n",
      "a: 1836.1526737600675\n",
      "b: 1\n",
      "c: 6.283185307179586\n",
      "d: -4\n",
      "e: 4.132407492786295e+16\n",
      "f: 137.09336290933788\n",
      "g: 0.5\n",
      "h: 1.8897261254578281 \n",
      "\n",
      "\n"
     ]
    }
   ],
   "source": [
    "import scipy.constants as sc\n",
    "import math\n",
    "a= sc.proton_mass/sc.electron_mass\n",
    "b= 1\n",
    "c= 2*math.pi\n",
    "d= -4\n",
    "e= 27.2*sc.electron_volt/sc.hbar\n",
    "f=sc.speed_of_light/e/sc.physical_constants[\"Bohr radius\"][0]\n",
    "g=0.5\n",
    "h=sc.angstrom/ sc.physical_constants[\"Bohr radius\"][0]\n",
    "\n",
    "print (\"RESULTADOS: \\n\\na:\",a)\n",
    "print (\"b:\",b)\n",
    "print (\"c:\",c)\n",
    "print (\"d:\",d)\n",
    "print (\"e:\",e)\n",
    "print (\"f:\",f)\n",
    "print (\"g:\",g)\n",
    "print (\"h:\",h,\"\\n\\n\")"
   ]
  },
  {
   "cell_type": "markdown",
   "metadata": {},
   "source": [
    "<hr>"
   ]
  },
  {
   "cell_type": "markdown",
   "metadata": {},
   "source": [
    "# 2. <span id=\"Problema2\"> Modelo crudo de enlace químico. Considere dos electrones inicialmente colocados dentro de dos cajas de potencial de paredes infinitas y anchura a/2. Después, las cajas se unen para formar una sola de anchura a que representa una molécula. Al ocurrir esta “reacción” (unir dos electrones en una sola caja), ¿Cuál fue el cambio de energía? ¿cuándo tiene el sistema menor energía, antes o después de la reacción?"
   ]
  },
  {
   "cell_type": "markdown",
   "metadata": {},
   "source": [
    "## Solución:\n",
    "La energía antes y despues de la reacción es:\n",
    "\\begin{align}\n",
    "E_{antes} = -2\\frac{\\pi^2 \\hbar^2}{2m (\\frac{a}{2})^2} \\\\{} \\\\\n",
    "E_{despues} = -2\\frac{\\pi^2 \\hbar^2}{2m a^2}\n",
    "\\end{align}\n",
    "\n",
    "Entonces\n",
    "\\begin{align}\n",
    "\\Delta E = 3E_{antes}\n",
    "\\end{align}\n",
    "\n",
    "Por lo tanto, $E_{antes}$ es 4 veces mayor que $E_{despues}$\n",
    "\n",
    "<hr>"
   ]
  },
  {
   "cell_type": "markdown",
   "metadata": {},
   "source": [
    "# 3. <span id=\"Problema3\">En coordenadas confocales elípticas, ¿cuál es la forma de las superficies en las que cada una de las coordenadas $\\rho$, $\\mu$ y $\\phi$ por separado, son constantes?"
   ]
  },
  {
   "cell_type": "markdown",
   "metadata": {},
   "source": [
    "## Solución:\n",
    "\n",
    "Las coordenadas confocales elípticas están definidas por:\n",
    "\\begin{array}{l}\n",
    "x=a \\sinh \\mu \\sin \\rho \\cos \\varphi \\\\\n",
    "y=a \\sinh \\mu \\sin \\rho \\sin \\varphi \\\\\n",
    "z=a \\cosh \\mu \\cos \\rho\n",
    "\\end{array},\n",
    "Donde $\\mu>0$, $\\rho \\in [0,\\pi]$, $\\varphi \\in [0,2\\pi]$\n",
    "\n",
    "creando una superficie por cada variable, tenemos:\n"
   ]
  },
  {
   "cell_type": "code",
   "execution_count": 92,
   "metadata": {
    "scrolled": false
   },
   "outputs": [
    {
     "data": {
      "application/vnd.jupyter.widget-view+json": {
       "model_id": "1e698f6fdbfb4aceb14ba75fe1bc9848",
       "version_major": 2,
       "version_minor": 0
      },
      "text/plain": [
       "Canvas(toolbar=Toolbar(toolitems=[('Home', 'Reset original view', 'home', 'home'), ('Back', 'Back to previous …"
      ]
     },
     "metadata": {},
     "output_type": "display_data"
    }
   ],
   "source": [
    "from mpl_toolkits.mplot3d import Axes3D  # noqa: F401 unused import\n",
    "\n",
    "import matplotlib.pyplot as plt\n",
    "from matplotlib import cm\n",
    "import numpy as np\n",
    "import math\n",
    "%matplotlib widget\n",
    "\n",
    "\n",
    "fig = plt.figure()\n",
    "ax = fig.add_subplot(111, projection='3d')\n",
    "ax.set_xlim3d(-10, 10)\n",
    "ax.set_ylim3d(-10,10)\n",
    "ax.set_zlim3d(-10,10)\n",
    "\n",
    "# Make data\n",
    "mu = np.linspace(0.1,3,100)\n",
    "ro = np.linspace(0, 2 * np.pi, 100)\n",
    "phi = np.linspace(0, np.pi, 100)\n",
    "\n",
    "#fijo mu\n",
    "x1 = 5 * np.outer(np.cos(phi), np.sin(ro))\n",
    "y1 =  5* np.outer(np.sin(phi), np.sin(ro))\n",
    "z1 = 5 * np.outer(np.ones(np.size(phi)), np.cos(ro))\n",
    "\n",
    "#fijo phi\n",
    "x2 = np.sin(math.pi/4)*np.outer(np.cos(ro), np.sinh(mu))\n",
    "y2 = np.sin(math.pi/4)*np.outer(np.sin(ro),np.sinh(mu) )\n",
    "z2 = np.cos(math.pi/4)*np.outer(np.ones(np.size(ro)),np.cosh(mu) )\n",
    "\n",
    "x3 = np.sin(math.pi/4)*np.outer(np.cos(ro), np.cos(mu))\n",
    "y3 = np.sin(math.pi/4)*np.outer(np.sin(ro),np.sin(mu) )\n",
    "z3 = np.cos(math.pi/4)*np.outer(np.ones(np.size(ro)),np.cosh(mu) )\n",
    "\n",
    "\n",
    "# Plot the surface\n",
    "ax.plot_surface(x1, y1, z1)\n",
    "ax.plot_surface(x2, y2, z2)\n",
    "ax.plot_surface(x3, y3, z3)\n",
    "\n",
    "\n",
    "plt.show()"
   ]
  },
  {
   "cell_type": "markdown",
   "metadata": {},
   "source": [
    "# <span id=\"Problema4\"> 4. Demostrar que el operador de inversión $\\wp_i$ conmuta con el hamiltoniano electrónico del ion molecular $H2^+$: $\\mathcal{H}_{elec} = -\\frac{1}{2} \\nabla ^2 -\\frac{1}{r_A}-\\frac{1}{r_B}$. El operador de inversión opera de la siguiente manera en coordenadas cartesianas y elípticas.\n",
    "\\begin{aligned}\n",
    "&\\wp_{i} \\psi(x, y, z)={\\psi}(-x,-y,-z) \\\\\n",
    "&\\wp_{i} \\psi\\left({r}_{A}, {r}_{B}, {\\varphi}\\right)={\\psi}\\left({r}_{B}, {r}_{A}, {\\varphi} \\pm {\\pi}\\right) \\\\\n",
    "&\\wp_{i} {\\psi}({\\rho}, {\\mu}, {\\varphi})={\\psi}({\\rho},-{\\mu}, {\\varphi} \\pm {\\pi})\n",
    "\\end{aligned}"
   ]
  },
  {
   "cell_type": "markdown",
   "metadata": {},
   "source": [
    "# 5. <span id=\"Problema5\"> Demostrar lo mismo que en el problema anterior, pero para el operador reflexión $\\hat{O}_{\\sigma h}$ que opera de la siguiente manera:\n",
    "\\begin{aligned}\n",
    "&\\hat{O}_{\\sigma h} {\\psi}({x}, {y}, {z})={\\psi}({x}, {y},-{z})\\\\\n",
    "&\\hat{O}_{\\sigma h} {\\psi}\\left({r}_{A}, {r}_{B}, {\\varphi}\\right)={\\psi}\\left({r}_{{B}}, {r}_{A}, {\\varphi}\\right)\\\\\n",
    "&\\hat{O}_{\\sigma h} {\\psi}({\\rho}, {\\mu}, {\\varphi})={\\psi}({\\rho},-{\\mu}, {\\varphi})\n",
    "\\end{aligned}\n",
    "\n",
    "Además, demuestre que el operador $\\hat{O}_{\\sigma h}$ conmuta con $\\wp_{i}$."
   ]
  },
  {
   "cell_type": "markdown",
   "metadata": {},
   "source": [
    "# 6. <span id=\"Problema6\"> Una mejor aproximación a la descripción del estado base de la molécula $H_2^+$ por el método LCAO se logra haciendo que en el orbital molecular $\\psi = c_A1S_B + c_B1s_B$ los orbitales atómicos $1s_A$ y $1s_B$ se incorporen un parámtro variacional Z que representaría algo así como una carga nuclear efectiva, es decir, tomando: \n",
    "    \n",
    "\\begin{align}\n",
    "1S_A = Z^{3/2} \\pi^{-1/2} e^{-Zr_A} \\\\\n",
    "1S_B = Z^{3/2} \\pi^{-1/2} e^{-Zr_B}\n",
    "\\end{align}\n",
    "Siendo $\\mathcal{H}_{elec} = -\\frac{1}{2} \\nabla ^2 -\\frac{1}{r_A}-\\frac{1}{r_B}$ el hamiltoniano electrónico en unidades atómicas, por el procedimiento usual se obtienen los estados enlace (+) y anti-enlace(-): $\\psi\\pm = \\frac{1S_A\\pm 1S_B}{\\sqrt{2}\\left(1-S_{AB} \\right)}$ con energías $E_\\pm = \\frac{\\mathcal{H}_{AA}-\\mathcal{H}_BB}{1\\pm S_{AB}}$\n",
    "\n",
    "Donde \n",
    "\\begin{align}\n",
    "S_{AB} = \\langle 1S_A | 1S_B \\rangle \\\\ \n",
    "\\mathcal{H}_{AB} \\langle 1S_A | \\mathcal{H}| 1S_B \\rangle \\\\ \n",
    "\\end{align}\n",
    "    \n",
    "Usando coordenadas elípticas, calcule los elementos de matriz anteriores usando los orbitales atómicos propuestos y demestre que las energías están dadas por:\n",
    "\n",
    "\\begin{align}\n",
    "E_{\\pm}=-\\frac{1}{2} Z^{2}+\\frac{Z^{2}-Z-R^{-1}+R^{-1}(1+Z R) e^{-2 ZR} \\pm Z(Z-2)(1+Z R) e^{-Z R}}{1 \\pm e^{-Z R}\\left(1+Z R+Z^{2} R^{2} / 3\\right)}\n",
    "\\end{align}\n",
    "donde R es la distancia internuclear"
   ]
  },
  {
   "cell_type": "markdown",
   "metadata": {},
   "source": [
    "# 7. <span id=\"Problema7\"> Ayudándose de paquetes de cálculo como Matlab, Mathematica, Maple, Origin o algún lenguaje de programación, grafique las energías moleculares $U_\\pm = 1/R + E\\pm$ de la expresión del problema anterior en función de Z y R para obtener una superficie en 3D:\n",
    "(a) Analice la forma de esta superficie e identifique los valores de Z = Z(R) que minimizan las energías $U_\\pm$ (notar que la relación Z = Z(R) implica que para cada R existe un Z diferente que minimiza las energías)\n",
    "\n",
    "(b) demuestre que el valor mínimo\n",
    "de la energía molecular $U_+$ ocurre cuando Z(Re) = 1.24 y que el mínimo de energía ocurre cuando Re = 2.00 bohrs y es $U_+(Re)$\n",
    "= −15.96 eV. De esto se sigue que la energía de disociación es $D_e= 15.96−13.6 = 2.36 eV$."
   ]
  },
  {
   "cell_type": "markdown",
   "metadata": {},
   "source": [
    "# 8. <span id=\"Problema8\">Sabiendo que la energia de disociación $D_e$ de la molecula $H_2$ es 4.478 eV y que para el ion molecular es 2.651 eV, calcule la energia de la primera ionización de la molecula $H_2$."
   ]
  },
  {
   "cell_type": "markdown",
   "metadata": {},
   "source": [
    "# 9. <span id=\"Problema9\">\n",
    "## (a) Dibuje un diagrama de orbitales moleculares para la diatómica Be2\n",
    "## (b) ¿Se espera que la molécula Be2 en su estado base sea estable? Justifique su respuesta\n",
    "## (c) Responda lo mismo que en \n",
    "## (d) para el primer estado excitado de Be2."
   ]
  },
  {
   "cell_type": "markdown",
   "metadata": {},
   "source": [
    "# 10. <span id=\"Problema10\">¿Cuál es es la configuración de estado base de las siguientes moleculas y iones diatomicos?: (a) $C_2$, (b) $C_2^+$(c) $C_2^-$ ¿Qué términos surgen en cada caso? Sugiera cuáles son los de menor energía."
   ]
  },
  {
   "cell_type": "markdown",
   "metadata": {},
   "source": [
    "# 11. <span id=\"Problema11>\" ¿Cuál es es la configuración de estado base de las siguientes moleculas-iones diatomicas?:\n",
    "            \n",
    "(a) $Li_2$, $Li_2^+$ y $Li_2^-$ \n",
    "\n",
    "(b) $Ne_2$, $Ne_2^+$ y $Ne_2^-$\n",
    "\n",
    "Describa los términos de cada configuración e indique cuáles son los de menor energía\n",
    "\n",
    "(c) En un diagrama esquematico de energiasde MOs describa el llenado de los niveles, identifique el HOMO y LUMO y calcule el orden de enlace."
   ]
  },
  {
   "cell_type": "markdown",
   "metadata": {},
   "source": [
    "# 12. <span id=\"Problema12\">Los estados electrónicos de una molécula diatómica se especifican con la notación ${}^{2S+1}\\Lambda$, donde $\\Lambda$ es letra griega código para la componente Lz total de varios electrones y 2S+1 es la multiplicidad de espin. Una configuración $\\pi^2$ da lugar a tres estados electrónicos ${}^3\\sum^-$, ${}^1\\Lambda$, ${}^1\\sum^+$. De acuerdo con las reglas de Hund, ¿Cuál de estos tres estados se espera sea el de menor energía?"
   ]
  },
  {
   "cell_type": "markdown",
   "metadata": {},
   "source": [
    "# 13. <span id=\"Problema13\">Dibuje un diagrama de MOs que explique porque el estado base de la diatómica $O_2$ es un triplete. Argumente su respuesta."
   ]
  },
  {
   "cell_type": "markdown",
   "metadata": {},
   "source": [
    "# 14. <span id=\"Problema14\"> Argumentos similares podrían indicar que el estado base de C2 también es un triplete. Las tres configuraciones de menor energía de $C_2$ son:\n",
    "\\begin{aligned}\n",
    "&\\left(\\sigma_{g} 2 s\\right)^{2}\\left(\\sigma_{u}^{*} 2 s\\right)^{2}\\left(\\sigma_{u}^{*} 2 s\\right)^{2}\\left(\\sigma_{g} 2 p\\right)^{2}\\left(\\pi_{u} 2 p\\right)^{2} \\rightarrow^{3} \\Sigma_{g}^{-},^{1} \\Delta_{g},^{1} \\Sigma_{g}^{+}\\\\\n",
    "&\\left(\\sigma_{g} 2 s\\right)^{2}\\left(\\sigma_{u}^{*} 2 s\\right)^{2}\\left(\\sigma_{u}^{*} 2 s\\right)^{2}\\left(\\sigma_{g} 2 p\\right)^{2}\\left(\\pi_{u} 2 p\\right)^{2} \\rightarrow^{3} \\Pi_{u},^{1} \\Pi_{u}\\\\\n",
    "&\\left(\\sigma_{g} 2 s\\right)^{2}\\left(\\sigma_{u}^{*} 2 s\\right)^{2}\\left(\\sigma_{u}^{*} 2 s\\right)^{2}\\left(\\sigma_{g} 2 p\\right)^{2}\\left(\\pi_{u} 2 p\\right)^{2} \\rightarrow^{1} \\Sigma_{g}^{+}\n",
    "\\end{aligned}\n",
    "    \n",
    "Usando un diagrama de MOs muestre porque el argumento usado para O2 no es correcto para para C2. Sugerencia: los orbitales\n",
    "$\\sigma_g$ provienen de los orbitales atómicos (AOs) 2s y 2p, que tienen energías muy cercanas en C."
   ]
  },
  {
   "cell_type": "markdown",
   "metadata": {},
   "source": [
    "# 15. <span id=\"Problema15\">\n",
    "## (A) Prediga el orden de enlace y el numero de electrones no apareados por cada una de las siguientes moléculas: (a) $S_2$\n",
    "\n",
    "(b) $S_2^+$\n",
    "\n",
    "(c) $S_2^-$\n",
    "\n",
    "(d) $N_2^+$\n",
    "\n",
    "(e) $N_2^-$\n",
    "\n",
    "(f) $F_2^+$\n",
    "\n",
    "(g) $F_2^-$\n",
    "\n",
    "(h) $Ne_2^+$\n",
    "\n",
    "(i) $Na_2*+$\n",
    "\n",
    "(j) $Na_2^-$\n",
    "\n",
    "(k) $H_2^-$\n",
    "\n",
    "(l) $C_2^+$\n",
    " \n",
    "(m) $C_2$\n",
    "\n",
    "(n) $C_2^-$\n",
    "\n",
    "(B) Use los resultados de (a) y la Tabla mostrada para predecir el término de estado base de cada una de las moléculas anteriores."
   ]
  },
  {
   "cell_type": "code",
   "execution_count": null,
   "metadata": {},
   "outputs": [],
   "source": []
  }
 ],
 "metadata": {
  "kernelspec": {
   "display_name": "Python 3",
   "language": "python",
   "name": "python3"
  },
  "language_info": {
   "codemirror_mode": {
    "name": "ipython",
    "version": 3
   },
   "file_extension": ".py",
   "mimetype": "text/x-python",
   "name": "python",
   "nbconvert_exporter": "python",
   "pygments_lexer": "ipython3",
   "version": "3.7.4"
  }
 },
 "nbformat": 4,
 "nbformat_minor": 2
}
