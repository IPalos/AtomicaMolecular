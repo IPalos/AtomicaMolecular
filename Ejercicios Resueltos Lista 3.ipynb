{
 "cells": [
  {
   "cell_type": "markdown",
   "metadata": {},
   "source": [
    "## Índice\n",
    "1. [Problema 1](#Problema1)\n",
    "2. [Problema 2](#Problema2)\n",
    "3. [Problema 3](#Problema3)\n",
    "4. [Problema 4](#Problema4)\n",
    "5. [Problema 5](#Problema5)\n",
    "6. [Problema 6](#Problema6)\n",
    "7. [Problema 7](#Problema7)\n",
    "8. [Problema 8](#Problema8)\n",
    "9. [Problema 9](#Problema9)\n",
    "10. [Problema 10](#Problema10) \n",
    "11. [Problema 11](#Problema11)\n",
    "12. [Problema 12](#Problema12)\n",
    "13. [Problema 13](#Problema13)\n",
    "14. [Problema 14](#Problema14)\n",
    "15. [Problema 15](#Problema15)"
   ]
  },
  {
   "cell_type": "markdown",
   "metadata": {},
   "source": [
    "# <span id=\"Problema1\"> 1. Dé el valor numérico en unidades atómicas de cada una de las siguientes cantidades: \n",
    "    \n",
    "    (a) La masa del protón \n",
    "    (b) La carga del electrón\n",
    "    (c) La constante de Planck\n",
    "    (d) La energía del estado base del ion He+ suponiendo que la masa nuclear es infinita\n",
    "    (e) Un segundo\n",
    "    (f) La velocidad de la luz c\n",
    "    (g) La energía del estado base del hidrogeno suponiendo que la masa nuclear es finita\n",
    "    (h) Un Debye = 1 eÅ (unidad de dipolo eléctrico) donde e es la carga electrónica"
   ]
  },
  {
   "cell_type": "markdown",
   "metadata": {},
   "source": [
    "## Solución:\n",
    "Masa del proton: $m_p(u.a)=\\frac{m_p(mks)}{m_e(mks)}$\n",
    "\n",
    "Un Segundo: $1s = \\frac{\\hbar}{E_h}$\n",
    "\n"
   ]
  },
  {
   "cell_type": "code",
   "execution_count": 33,
   "metadata": {},
   "outputs": [
    {
     "name": "stdout",
     "output_type": "stream",
     "text": [
      "RESULTADOS: \n",
      "\n",
      "a: 1836.1526737600675\n",
      "b: 1\n",
      "c: 6.283185307179586\n",
      "d: -4\n",
      "e: 4.132407492786295e+16\n",
      "f: 137.09336290933788\n",
      "g: 0.5\n",
      "h: 1.8897261254578281 \n",
      "\n",
      "\n"
     ]
    }
   ],
   "source": [
    "import scipy.constants as sc\n",
    "import math\n",
    "a= sc.proton_mass/sc.electron_mass\n",
    "b= 1\n",
    "c= 2*math.pi\n",
    "d= -4\n",
    "e= 27.2*sc.electron_volt/sc.hbar\n",
    "f=sc.speed_of_light/e/sc.physical_constants[\"Bohr radius\"][0]\n",
    "g=0.5\n",
    "h=sc.angstrom/ sc.physical_constants[\"Bohr radius\"][0]\n",
    "\n",
    "print (\"RESULTADOS: \\n\\na:\",a)\n",
    "print (\"b:\",b)\n",
    "print (\"c:\",c)\n",
    "print (\"d:\",d)\n",
    "print (\"e:\",e)\n",
    "print (\"f:\",f)\n",
    "print (\"g:\",g)\n",
    "print (\"h:\",h,\"\\n\\n\")"
   ]
  },
  {
   "cell_type": "markdown",
   "metadata": {},
   "source": [
    "<hr>"
   ]
  },
  {
   "cell_type": "markdown",
   "metadata": {},
   "source": [
    "# 2. <span id=\"Problema2\"> Modelo crudo de enlace químico. Considere dos electrones inicialmente colocados dentro de dos cajas de potencial de paredes infinitas y anchura a/2. Después, las cajas se unen para formar una sola de anchura a que representa una molécula. Al ocurrir esta “reacción” (unir dos electrones en una sola caja), ¿Cuál fue el cambio de energía? ¿cuándo tiene el sistema menor energía, antes o después de la reacción?"
   ]
  },
  {
   "cell_type": "markdown",
   "metadata": {},
   "source": [
    "## Solución:\n",
    "La energía antes y despues de la reacción es:\n",
    "\\begin{align}\n",
    "E_{antes} = -2\\frac{\\pi^2 \\hbar^2}{2m (\\frac{a}{2})^2} \\\\{} \\\\\n",
    "E_{despues} = -2\\frac{\\pi^2 \\hbar^2}{2m a^2}\n",
    "\\end{align}\n",
    "\n",
    "Entonces\n",
    "\\begin{align}\n",
    "\\Delta E = 3E_{antes}\n",
    "\\end{align}\n",
    "\n",
    "Por lo tanto, $E_{antes}$ es 4 veces mayor que $E_{despues}$\n",
    "\n",
    "<hr>"
   ]
  },
  {
   "cell_type": "markdown",
   "metadata": {},
   "source": [
    "# 3. <span id=\"Problema3\">En coordenadas confocales elípticas, ¿cuál es la forma de las superficies en las que cada una de las coordenadas $\\rho$, $\\mu$ y $\\phi$ por separado, son constantes?"
   ]
  },
  {
   "cell_type": "markdown",
   "metadata": {},
   "source": [
    "## Solución:\n",
    "\n",
    "Las coordenadas confocales elípticas están definidas por:\n",
    "\\begin{array}{l}\n",
    "x=a \\sinh \\mu \\sin \\rho \\cos \\varphi \\\\\n",
    "y=a \\sinh \\mu \\sin \\rho \\sin \\varphi \\\\\n",
    "z=a \\cosh \\mu \\cos \\rho\n",
    "\\end{array},\n",
    "Donde $\\mu>0$, $\\rho \\in [0,\\pi]$, $\\varphi \\in [0,2\\pi]$\n",
    "\n",
    "creando una superficie por cada variable, tenemos:\n"
   ]
  },
  {
   "cell_type": "code",
   "execution_count": 23,
   "metadata": {
    "scrolled": false
   },
   "outputs": [
    {
     "data": {
      "application/vnd.jupyter.widget-view+json": {
       "model_id": "78ef9e3c2a5743dea403df35a80331d3",
       "version_major": 2,
       "version_minor": 0
      },
      "text/plain": [
       "Canvas(toolbar=Toolbar(toolitems=[('Home', 'Reset original view', 'home', 'home'), ('Back', 'Back to previous …"
      ]
     },
     "metadata": {},
     "output_type": "display_data"
    }
   ],
   "source": [
    "from mpl_toolkits.mplot3d import Axes3D  # noqa: F401 unused import\n",
    "\n",
    "import matplotlib.pyplot as plt\n",
    "from matplotlib import cm\n",
    "import numpy as np\n",
    "import math\n",
    "%matplotlib widget\n",
    "\n",
    "\n",
    "fig = plt.figure()\n",
    "ax = fig.add_subplot(111, projection='3d')\n",
    "ax.set_xlim3d(-10, 10)\n",
    "ax.set_ylim3d(-10,10)\n",
    "ax.set_zlim3d(-10,10)\n",
    "\n",
    "# Make data\n",
    "mu = np.linspace(0.1,3,100)\n",
    "ro = np.linspace(0, 2 * np.pi, 100)\n",
    "phi = np.linspace(0, np.pi, 100)\n",
    "\n",
    "#fijo mu\n",
    "x1 = 5 * np.outer(np.cos(phi), np.sin(ro))\n",
    "y1 =  5* np.outer(np.sin(phi), np.sin(ro))\n",
    "z1 = 5 * np.outer(np.ones(np.size(phi)), np.cos(ro))\n",
    "\n",
    "#fijo phi\n",
    "x2 = np.sin(math.pi/4)*np.outer(np.cos(ro), np.sinh(mu))\n",
    "y2 = np.sin(math.pi/4)*np.outer(np.sin(ro),np.sinh(mu) )\n",
    "z2 = np.cos(math.pi/4)*np.outer(np.ones(np.size(ro)),np.cosh(mu) )\n",
    "\n",
    "x3 = np.sin(math.pi/4)*np.outer(np.cos(ro), np.cos(mu))\n",
    "y3 = np.sin(math.pi/4)*np.outer(np.sin(ro),np.sin(mu) )\n",
    "z3 = np.cos(math.pi/4)*np.outer(np.ones(np.size(ro)),np.cosh(mu) )\n",
    "\n",
    "\n",
    "# Plot the surface\n",
    "ax.plot_surface(x1, y1, z1)\n",
    "ax.plot_surface(x2, y2, z2)\n",
    "ax.plot_surface(x3, y3, z3)\n",
    "\n",
    "\n",
    "plt.show()"
   ]
  },
  {
   "cell_type": "markdown",
   "metadata": {},
   "source": [
    "# <span id=\"Problema4\"> 4. Demostrar que el operador de inversión $\\wp_i$ conmuta con el hamiltoniano electrónico del ion molecular $H2^+$: $\\mathcal{H}_{elec} = -\\frac{1}{2} \\nabla ^2 -\\frac{1}{r_A}-\\frac{1}{r_B}$. El operador de inversión opera de la siguiente manera en coordenadas cartesianas y elípticas.\n",
    "\\begin{aligned}\n",
    "&\\wp_{i} \\psi(x, y, z)={\\psi}(-x,-y,-z) \\\\\n",
    "&\\wp_{i} \\psi\\left({r}_{A}, {r}_{B}, {\\varphi}\\right)={\\psi}\\left({r}_{B}, {r}_{A}, {\\varphi} \\pm {\\pi}\\right) \\\\\n",
    "&\\wp_{i} {\\psi}({\\rho}, {\\mu}, {\\varphi})={\\psi}({\\rho},-{\\mu}, {\\varphi} \\pm {\\pi})\n",
    "\\end{aligned}"
   ]
  },
  {
   "cell_type": "markdown",
   "metadata": {},
   "source": [
    "## Solución\n",
    "\n",
    "### Coordenadas Cartesianas\n",
    "Para que $\\wp_i$ conmute con $\\mathcal{H}_{elec}$, entonces $[\\wp_i,\\mathcal{H}_{elec}] = 0$ \n",
    "\n",
    "Por un lado, tenemos que:\n",
    "\\begin{gather}\n",
    "\\left(\\wp_i\\mathcal{H}_{elec}\\right)\\psi \\\\[10 pt]\n",
    "\\wp_i\\left(-\\frac{1}{2}\\nabla^2-\\frac{1}{r_A}-\\frac{1}{r_B}\\right)\\psi \\\\[10 pt]\n",
    "\\end{gather}\n",
    "\n",
    "como $r_A = -r_B$ entonces\n",
    "\n",
    "$\\left(\\wp_i\\frac{1}{r_A}\\right)\\psi = -\\frac{\\psi}{r_B}$, análogamente $\\left(\\wp_i\\frac{1}{r_B}\\right)\\psi = -\\frac{\\psi}{r_A}$ entonces\n",
    "\n",
    "\\begin{gather}\n",
    "\\boxed{(\\wp_i\\mathcal{H}_{elec})\\psi = \\left(\\frac{1}{2}\\nabla^2+\\frac{1}{r_B}+\\frac{1}{r_A}\\right)\\psi}\n",
    "\\end{gather}\n",
    "\n",
    "Por otro lado\n",
    "\\begin{gather}\n",
    "\\left(\\mathcal{H}_{elec}\\wp_i\\right)\\psi \\\\[10 pt]\n",
    "\\mathcal{H}_{elec}-\\psi \\\\[10 pt]\n",
    "\\left(-\\frac{1}{2}\\nabla^2(-\\psi)-\\frac{-\\psi}{r_A}-\\frac{-\\psi}{r_B}\\right) \\\\[10 pt]\n",
    "\\end{gather}\n",
    "\n",
    "\\begin{gather}\n",
    "\\boxed{(\\mathcal{H}_{elec}\\wp_i)\\psi = \\left(\\frac{1}{2}\\nabla^2+\\frac{1}{r_B}+\\frac{1}{r_A}\\right)\\psi}\n",
    "\\end{gather}\n",
    "\n",
    "Por lo tanto, $\\boxed{[\\mathcal{H}_{elec},\\wp_i]=0}$, lo que signfica que ambos operadores conmutan en coordenadas cartesianas\n",
    "\n",
    "### Coordenadas elípticas\n",
    "\n",
    "Tenemos que el operador $\\mathcal{H}_{elec}$ en coordenadas eípticas está dado por:\n",
    "\\begin{align}\n",
    "\\mathcal { H }_{e l e c}=-\\frac{2}{{R}^{2}\\left({\\rho}^{2}-{\\mu}^{2}\\right)}\\left\\{\\frac{{\\partial}}{{\\partial} {\\rho}}\\left[\\left({\\rho}^{2}-{1}\\right) \\frac{{\\partial}}{{\\partial} {\\rho}}\\right]+\\frac{{\\partial}}{\\partial {\\mu}}\\left[\\left(1-{\\mu}^{2}\\right) \\frac{{\\partial}}{{\\partial} {\\mu}}\\right]+\\frac{{\\partial}}{{\\partial} {\\varphi}}\\left[\\frac{{\\rho}^{2}-{\\mu}^{2}}{\\left({\\rho}^{2}-{1}\\right)\\left({1}-{\\mu}^{2}\\right)} \\frac{{\\partial}}{{\\partial} {\\varphi}}\\right]\\right\\}-\\frac{{2}}{{R}({\\rho}+{\\mu})}-\\frac{{2}}{{R}({\\rho}-{\\mu})}\n",
    "\\end{align}\n",
    "\n",
    "\n"
   ]
  },
  {
   "cell_type": "markdown",
   "metadata": {},
   "source": [
    "# 5. <span id=\"Problema5\"> Demostrar lo mismo que en el problema anterior, pero para el operador reflexión $\\hat{O}_{\\sigma h}$ que opera de la siguiente manera:\n",
    "\\begin{aligned}\n",
    "&\\hat{O}_{\\sigma h} {\\psi}({x}, {y}, {z})={\\psi}({x}, {y},-{z})\\\\\n",
    "&\\hat{O}_{\\sigma h} {\\psi}\\left({r}_{A}, {r}_{B}, {\\varphi}\\right)={\\psi}\\left({r}_{{B}}, {r}_{A}, {\\varphi}\\right)\\\\\n",
    "&\\hat{O}_{\\sigma h} {\\psi}({\\rho}, {\\mu}, {\\varphi})={\\psi}({\\rho},-{\\mu}, {\\varphi})\n",
    "\\end{aligned}\n",
    "\n",
    "Además, demuestre que el operador $\\hat{O}_{\\sigma h}$ conmuta con $\\wp_{i}$."
   ]
  },
  {
   "cell_type": "markdown",
   "metadata": {},
   "source": [
    "# 6. <span id=\"Problema6\"> Una mejor aproximación a la descripción del estado base de la molécula $H_2^+$ por el método LCAO se logra haciendo que en el orbital molecular $\\psi = c_A1S_B + c_B1S_B$ los orbitales atómicos $1s_A$ y $1s_B$ se incorporen un parámtro variacional Z que representaría algo así como una carga nuclear efectiva, es decir, tomando: \n",
    "    \n",
    "\\begin{align}\n",
    "1S_A = Z^{3/2} \\pi^{-1/2} e^{-Zr_A} \\\\\n",
    "1S_B = Z^{3/2} \\pi^{-1/2} e^{-Zr_B}\n",
    "\\end{align}\n",
    "Siendo $\\mathcal{H}_{elec} = -\\frac{1}{2} \\nabla ^2 -\\frac{1}{r_A}-\\frac{1}{r_B}$ el hamiltoniano electrónico en unidades atómicas, por el procedimiento usual se obtienen los estados enlace (+) y anti-enlace(-): $\\psi\\pm = \\frac{1S_A\\pm 1S_B}{\\sqrt{2}\\left(1-S_{AB} \\right)}$ con energías $E_\\pm = \\frac{\\mathcal{H}_{AA}-\\mathcal{H}_{BB}}{1\\pm S_{AB}}$\n",
    "\n",
    "Donde \n",
    "\\begin{align}\n",
    "S_{AB} = \\langle 1S_A | 1S_B \\rangle \\\\ \n",
    "\\mathcal{H}_{AB} = \\langle 1S_A | \\mathcal{H}| 1S_B \\rangle \\\\ \n",
    "\\end{align}\n",
    "    \n",
    "Usando coordenadas elípticas, calcule los elementos de matriz anteriores usando los orbitales atómicos propuestos y demestre que las energías están dadas por:\n",
    "\n",
    "\\begin{align}\n",
    "E_{\\pm}=-\\frac{1}{2} Z^{2}+\\frac{Z^{2}-Z-R^{-1}+R^{-1}(1+Z R) e^{-2 ZR} \\pm Z(Z-2)(1+Z R) e^{-Z R}}{1 \\pm e^{-Z R}\\left(1+Z R+Z^{2} R^{2} / 3\\right)}\n",
    "\\end{align}\n",
    "donde R es la distancia internuclear"
   ]
  },
  {
   "cell_type": "markdown",
   "metadata": {},
   "source": [
    "## Solución\n",
    "\n",
    "### Cálculo de $S_{AB}$\n",
    "\n",
    "\\begin{align}\n",
    "\\langle 1S_A | 1S_B \\rangle &= \\int{\\frac{Z^3}{\\pi}e^{-Zr_A}e^{-Zr_B}} \\\\[10 pt]\n",
    "{}&= \\frac{Z^3}{\\pi} \\int{e^{-Z(\\frac{R}{2}(\\rho+\\mu)+\\frac{R}{2} (\\rho-\\mu) )}} \\\\[10 pt]\n",
    "{}&= \\frac{Z^3}{\\pi} \\int_1^\\infty{e^{-ZR\\rho}} d\\rho \\\\[10 pt]\n",
    "{}&= \\frac{Z^3}{\\pi} \\int_1^\\infty{e^{-ZR\\rho}} d\\rho \\\\[10 pt]\n",
    "\\langle 1S_A | 1S_B \\rangle &= \\frac{-Z^2}{\\pi R}e^{- Z R}\n",
    "\\end{align}\n",
    "\n",
    "### Cálculo de $\\mathcal{H}_{AA}$\n",
    "\\begin{align}\n",
    "\\mathcal{H}_{AA} &= \\langle 1S_A |\\mathcal{H}| 1S_A \\rangle \\\\[10 pt]\n",
    "{}&= \\int_{\\rho=1}^\\infty{\\int_{\\mu=-1}^1{\\frac{-2z^3}{\\pi R}\\left[e^{-zR(\\rho+\\mu)} \\left(\\frac{Rz}{4}- \\frac{1}{(\\rho-\\mu)}-\\frac{2z\\rho}{\\rho^2-\\mu^2} \\right)   \\right]  d\\mu d\\rho }}\n",
    "\\end{align}\n",
    "\n",
    "### Cálculo de $\\mathcal{H}_{BB}$\n",
    "\\begin{align}\n",
    "\\mathcal{H}_{BB} &= \\langle 1S_B |\\mathcal{H}| 1S_B \\rangle \\\\[10 pt]\n",
    "{}&= \\int_{\\rho=1}^\\infty{\\int_{\\mu=-1}^1{\\frac{-2z^3}{\\pi R}\\left[e^{-zR(\\rho+\\mu)} \\left(\\frac{Rz}{4}- \\frac{1}{(\\rho-\\mu)}-\\frac{2z\\rho}{\\rho^2-\\mu^2} \\right)   \\right]  d\\mu d\\rho }}\n",
    "\\end{align}\n",
    "\n"
   ]
  },
  {
   "cell_type": "code",
   "execution_count": 16,
   "metadata": {},
   "outputs": [],
   "source": [
    "import sympy as sp\n",
    "z=sp.Symbol(\"z\")\n",
    "R=sp.Symbol(\"R\",positive=True)\n",
    "ro=sp.Symbol(\"rho\")\n",
    "mu=sp.Symbol(\"mu\")\n",
    "sA=sp.sqrt(z**3/sp.pi)*sp.exp(-z*R*(ro+mu)/2)\n",
    "sB=sp.sqrt(z**3/sp.pi)*sp.exp(-z*R*(ro-mu)/2)\n",
    "ddro=sp.diff((ro**2-1)*sp.diff(sA,ro),ro)\n",
    "ddmu=sp.diff((1-mu**2)*sp.diff(sA,mu),mu)"
   ]
  },
  {
   "cell_type": "code",
   "execution_count": 20,
   "metadata": {},
   "outputs": [],
   "source": [
    "#Ha=-2/(R**2*(ro**2-mu**2))*(ddro+ddmu)-2*sA/(R*(ro+mu))-2*sA/(R*(ro-mu))\n",
    "#Ha=-(2*z**(3/2))/(R*sp.sqrt(sp.pi))*sp.exp(-z*R*(ro+mu)/2)/(ro**2-mu**2)*((R*z/4*(ro**2-mu**2))-(ro+mu)-2*z*ro)\n",
    "Haa=-(2*z**3)/(sp.pi*R)*sp.exp(-z*R*(ro+mu))*((R*z)/4-1/(ro-mu)-(2*z*ro)/(ro**2-mu**2))\n",
    "k=-(2*z**3)/(sp.pi*R)\n",
    "Haa_1_mu=sp.integrate(k*R*z/4*sp.exp(-z*R*(ro+mu)),(mu,-1,1))\n",
    "Haa_2_mu=sp.integrate(k*sp.exp(-z*R*(ro+mu))/(ro-mu),(mu,-1,1))\n"
   ]
  },
  {
   "cell_type": "code",
   "execution_count": 13,
   "metadata": {},
   "outputs": [
    {
     "data": {
      "text/latex": [
       "$\\displaystyle - \\frac{z^{1.5} \\left(\\int \\frac{4 \\mu e^{- \\frac{R \\mu z}{2}}}{\\mu^{2} - \\rho^{2}}\\, d\\mu + \\int \\frac{4 \\rho e^{- \\frac{R \\mu z}{2}}}{\\mu^{2} - \\rho^{2}}\\, d\\mu + \\int \\frac{8 \\rho z e^{- \\frac{R \\mu z}{2}}}{\\mu^{2} - \\rho^{2}}\\, d\\mu + \\int \\frac{R \\mu^{2} z e^{- \\frac{R \\mu z}{2}}}{\\mu^{2} - \\rho^{2}}\\, d\\mu + \\int \\left(- \\frac{R \\rho^{2} z e^{- \\frac{R \\mu z}{2}}}{\\mu^{2} - \\rho^{2}}\\right)\\, d\\mu\\right) e^{- \\frac{R \\rho z}{2}}}{2 \\sqrt{\\pi} R}$"
      ],
      "text/plain": [
       "-z**1.5*(Integral(4*mu*exp(-R*mu*z/2)/(mu**2 - rho**2), mu) + Integral(4*rho*exp(-R*mu*z/2)/(mu**2 - rho**2), mu) + Integral(8*rho*z*exp(-R*mu*z/2)/(mu**2 - rho**2), mu) + Integral(R*mu**2*z*exp(-R*mu*z/2)/(mu**2 - rho**2), mu) + Integral(-R*rho**2*z*exp(-R*mu*z/2)/(mu**2 - rho**2), mu))*exp(-R*rho*z/2)/(2*sqrt(pi)*R)"
      ]
     },
     "execution_count": 13,
     "metadata": {},
     "output_type": "execute_result"
    }
   ],
   "source": [
    "i_Haa=sp.integrate(Ha,(mu)).simplify()\n",
    "i_Haa"
   ]
  },
  {
   "cell_type": "code",
   "execution_count": 21,
   "metadata": {},
   "outputs": [
    {
     "data": {
      "text/latex": [
       "$\\displaystyle \\frac{2 z^{3} e^{- R \\rho z} \\int\\limits_{-1}^{1} \\frac{e^{- R \\mu z}}{\\mu - \\rho}\\, d\\mu}{\\pi R}$"
      ],
      "text/plain": [
       "2*z**3*exp(-R*rho*z)*Integral(exp(-R*mu*z)/(mu - rho), (mu, -1, 1))/(pi*R)"
      ]
     },
     "execution_count": 21,
     "metadata": {},
     "output_type": "execute_result"
    }
   ],
   "source": [
    "Haa_2_mu.simplify()"
   ]
  },
  {
   "cell_type": "markdown",
   "metadata": {},
   "source": [
    "# 7. <span id=\"Problema7\"> Ayudándose de paquetes de cálculo como Matlab, Mathematica, Maple, Origin o algún lenguaje de programación, grafique las energías moleculares $U_\\pm = 1/R + E\\pm$ de la expresión del problema anterior en función de Z y R para obtener una superficie en 3D:\n",
    "(a) Analice la forma de esta superficie e identifique los valores de Z = Z(R) que minimizan las energías $U_\\pm$ (notar que la relación Z = Z(R) implica que para cada R existe un Z diferente que minimiza las energías)\n",
    "\n",
    "(b) demuestre que el valor mínimo\n",
    "de la energía molecular $U_+$ ocurre cuando Z(Re) = 1.24 y que el mínimo de energía ocurre cuando Re = 2.00 bohrs y es $U_+(Re)$\n",
    "= −15.96 eV. De esto se sigue que la energía de disociación es $D_e= 15.96−13.6 = 2.36 eV$."
   ]
  },
  {
   "cell_type": "code",
   "execution_count": 117,
   "metadata": {
    "scrolled": true
   },
   "outputs": [
    {
     "data": {
      "application/vnd.jupyter.widget-view+json": {
       "model_id": "1bf9f7cb2e79412383cd998b9302c79e",
       "version_major": 2,
       "version_minor": 0
      },
      "text/plain": [
       "Canvas(toolbar=Toolbar(toolitems=[('Home', 'Reset original view', 'home', 'home'), ('Back', 'Back to previous …"
      ]
     },
     "metadata": {},
     "output_type": "display_data"
    },
    {
     "name": "stdout",
     "output_type": "stream",
     "text": [
      "-0.2614476931009839\n"
     ]
    }
   ],
   "source": [
    "from mpl_toolkits.mplot3d import Axes3D  # noqa: F401 unused import\n",
    "\n",
    "import matplotlib.pyplot as plt\n",
    "from matplotlib import cm\n",
    "import numpy as np\n",
    "import math\n",
    "%matplotlib widget\n",
    "\n",
    "\n",
    "fig = plt.figure()\n",
    "ax = fig.add_subplot(111, projection='3d')\n",
    "\n",
    "#Datos\n",
    "R= np.outer(np.linspace(.1, 5, 300), np.ones(300))\n",
    "Z= np.outer(np.linspace(.1, 5, 300), np.ones(300)).T\n",
    "\n",
    "Ep= -(Z*Z/2)+ (1/(1  +  np.exp(-Z*R)*(1+(Z*R)+(Z**2*R**2)/3))*(Z**2-Z-(1/R)*(1+Z*R)*np.exp(-2*Z*R)  +  Z*(Z-2)*(1+Z*R)*np.exp(-Z*R)))\n",
    "Em= -(Z*Z/2)+ (1/(1  -  np.exp(-Z*R)*(1+(Z*R)+(Z**2*R**2)/3))*(Z**2-Z-(1/R)*(1+Z*R)*np.exp(-2*Z*R)  -  Z*(Z-2)*(1+Z*R)*np.exp(-Z*R)))\n",
    "\n",
    "z=1.24\n",
    "r=2.0\n",
    "Upmin= 1/r -(z*z/2)+ (1/(1  +  np.exp(-z*r)*(1+(z*r)+(z**2*r**2)/3))*(z**2-z-(1/r)*(1+z*r)*np.exp(-2*z*r)  +  z*(z-2)*(1+z*r)*np.exp(-z*r)))\n",
    "print(Upmin)\n",
    "#U[R,Z]\n",
    "Up= 1/R +Ep\n",
    "Um= 1/R +Em\n",
    "\n",
    "#minimos por cada z\n",
    "mm =[np.min(Up[:,j]) for j in range(300)]\n",
    "indexes=[]\n",
    "for k in range(300):\n",
    "    for i in range(300):\n",
    "        if Up[i,k] == mm[k]:\n",
    "            indexes.append(i)\n",
    "\n",
    "\n",
    "#Grafica\n",
    "ax.plot_surface(Z,R, Up,cmap=\"viridis\",alpha=0.65)\n",
    "ax.scatter(R[:,0],Z[0,indexes],mm,color=\"red\")\n",
    "ax.set_xlabel(\"Z\")\n",
    "ax.set_ylabel(\"R\")\n",
    "ax.set_zlabel(\"U(R,Z)\")\n",
    "\n",
    "#Muestra la gráfica\n",
    "plt.show()"
   ]
  },
  {
   "cell_type": "markdown",
   "metadata": {},
   "source": [
    "En la gráfica de arriba se puede observar una discontinuidad en los mínimos (la línea roja) cuando $Z\\approx 1.24$ y R=2.0"
   ]
  },
  {
   "cell_type": "markdown",
   "metadata": {},
   "source": [
    "# 8. <span id=\"Problema8\">Sabiendo que la energia de disociación $D_e$ de la molecula $H_2$ es 4.478 eV y que para el ion molecular es 2.651 eV, calcule la energia de la primera ionización de la molecula $H_2$."
   ]
  },
  {
   "cell_type": "markdown",
   "metadata": {},
   "source": [
    "Solución:\n",
    "\n",
    "La energía de la primera ionización es:\n",
    "\\begin{align}\n",
    "D _ { e } ( H _ { 2 } ) &= 4.47 eV \\\\[10pt]\n",
    "D _ { e } ( H _ { 2 } ^ { + } ) &= 2. 651 eV \\\\[10pt]\n",
    "E _ { H _ { 2 } ^ { + } } &= ( D _ { e } ( H _ { 2 } ) - D _ { e } ( H _ { 2 } ^ { + } )) + 15.96 \\\\[10pt]\n",
    "E_{H_2^+}&= 17.779 eV\n",
    "\\end{align}"
   ]
  },
  {
   "cell_type": "code",
   "execution_count": 119,
   "metadata": {},
   "outputs": [
    {
     "data": {
      "text/plain": [
       "17.779"
      ]
     },
     "execution_count": 119,
     "metadata": {},
     "output_type": "execute_result"
    }
   ],
   "source": [
    "4.47-2.651+15.96"
   ]
  },
  {
   "cell_type": "markdown",
   "metadata": {},
   "source": [
    "# 9. <span id=\"Problema9\">\n",
    "## (a) Dibuje un diagrama de orbitales moleculares para la diatómica $Be_2$\n",
    "## (b) ¿Se espera que la molécula $Be_2$ en su estado base sea estable? Justifique su respuesta\n",
    "## (c) Responda lo mismo que en (b) para el primer estado excitado de $Be_2$."
   ]
  },
  {
   "cell_type": "markdown",
   "metadata": {},
   "source": [
    "### Solución\n",
    "(a)![image.png](DiagramaMo.png)\n",
    "\n",
    "(b) No es estable, porque en el estado base, hay la misma cantidad de electrones en el enlace $\\large{\\sigma*_{2_s}}$ que en el enlace $\\large{\\sigma_{2_s}}$\n",
    "\n",
    "(c) En este caso, si es estable porque tiene 2 electrones mas en $\\large{\\sigma_{2_s}}$ que en $\\large{\\sigma*_{2_s}}$"
   ]
  },
  {
   "cell_type": "markdown",
   "metadata": {},
   "source": [
    "# 10. <span id=\"Problema10\">¿Cuál es es la configuración de estado base de las siguientes moleculas y iones diatomicos?: (a) $C_2$, (b) $C_2^+$(c) $C_2^-$ ¿Qué términos surgen en cada caso? Sugiera cuáles son los de menor energía."
   ]
  },
  {
   "cell_type": "markdown",
   "metadata": {},
   "source": [
    "### Solución\n",
    "(a)![image.png](Cnormal.png)\n",
    "(b)![image.png](Cmas.png)\n",
    "(c)![image.png](Cmenos.png)\n",
    "\n",
    "El órden de las energías, de mayor a menor es: $C_2$, $C_2^-$ y $C_2^+$"
   ]
  },
  {
   "cell_type": "markdown",
   "metadata": {},
   "source": [
    "# 11. <span id=\"Problema11\"> ¿Cuál es es la configuración de estado base de las siguientes moleculas-iones diatomicas?:\n",
    "            \n",
    "(a) $Li_2$, $Li_2^+$ y $Li_2^-$ \n",
    "\n",
    "(b) $Ne_2$, $Ne_2^+$ y $Ne_2^-$\n",
    "\n",
    "Describa los términos de cada configuración e indique cuáles son los de menor energía\n",
    "\n",
    "(c) En un diagrama esquematico de energiasde MOs describa el llenado de los niveles, identifique el HOMO y LUMO y calcule el orden de enlace."
   ]
  },
  {
   "cell_type": "markdown",
   "metadata": {},
   "source": [
    "### Solución\n",
    "(a)\n",
    "\\begin{align}\n",
    "\\\\[50pt]\n",
    "\\LARGE{\\boxed{\\color{red}{Li_2}}}\\\\[20pt]\n",
    "\\end{align}\n",
    "![image.png](./Recursos/Li.png)\n",
    "\n",
    "||Propiedades|\n",
    "|---|---|\n",
    "|Orden de enlace | 1 |\n",
    "|HOMO | $2\\sigma$|\n",
    "|LUMO| $2\\sigma*$|\n",
    "\n",
    "\\begin{align}\n",
    "\\\\[50pt]\n",
    "\\LARGE{\\boxed{\\color{red}{Li_2^+}}}\\\\[20pt]\n",
    "\\end{align}\n",
    "![image.png](./Recursos/Limas.png)\n",
    "\n",
    "||Propiedades|\n",
    "|---|---|\n",
    "|Orden de enlace | 1/2 |\n",
    "|HOMO | $1\\sigma*$|\n",
    "|LUMO| $2\\sigma$|\n",
    "\n",
    "\\begin{align}\n",
    "\\\\[50pt]\n",
    "\\LARGE{\\boxed{\\color{red}{Li_2^-}}}\\\\[20pt]\n",
    "\\end{align}\n",
    "![image.png](./Recursos/Limenos.png)\n",
    "\n",
    "||Propiedades|\n",
    "|---|---|\n",
    "|Orden de enlace | 1/2 |\n",
    "|HOMO | $2\\sigma$|\n",
    "|LUMO| $2\\sigma*$|\n",
    "\n",
    "\\begin{align}\n",
    "\\\\[50pt]\n",
    "\\LARGE{\\boxed{\\color{red}{Ne_2}}}\\\\[20pt]\n",
    "\\end{align}\n",
    "![image.png](./Recursos/Ne.png)\n",
    "\n",
    "||Propiedades|\n",
    "|---|---|\n",
    "|Orden de enlace | 0 |\n",
    "|HOMO | $3\\sigma*$|\n",
    "|LUMO| $3\\delta$|\n",
    "\n",
    "\\begin{align}\n",
    "\\\\[50pt]\n",
    "\\LARGE{\\boxed{\\color{red}{Ne_2^+}}}\\\\[20pt]\n",
    "\\end{align}\n",
    "![image.png](./Recursos/Nemas.png)\n",
    "\n",
    "||Propiedades|\n",
    "|---|---|\n",
    "|Orden de enlace | 1/2 |\n",
    "|HOMO | $2\\pi*$|\n",
    "|LUMO| $3\\sigma*$|\n",
    "\n",
    "\\begin{align}\n",
    "\\\\[50pt]\n",
    "\\LARGE{\\boxed{\\color{red}{Ne_2^-}}}\\\\[20pt]\n",
    "\\end{align}\n",
    "![image.png](./Recursos/Nemenos.png)\n",
    "\n",
    "||Propiedades|\n",
    "|---|---|\n",
    "|Orden de enlace | 1/2 |\n",
    "|HOMO | $3\\sigma*$|\n",
    "|LUMO| $3\\delta$|"
   ]
  },
  {
   "cell_type": "markdown",
   "metadata": {},
   "source": [
    "# 12. <span id=\"Problema12\">Los estados electrónicos de una molécula diatómica se especifican con la notación ${}^{2S+1}\\Lambda$, donde $\\Lambda$ es letra griega código para la componente Lz total de varios electrones y 2S+1 es la multiplicidad de espin. Una configuración $\\pi^2$ da lugar a tres estados electrónicos ${}^3\\Sigma^-$, ${}^1\\Lambda$, ${}^1\\Sigma^+$. De acuerdo con las reglas de Hund, ¿Cuál de estos tres estados se espera sea el de menor energía?"
   ]
  },
  {
   "cell_type": "markdown",
   "metadata": {},
   "source": [
    "### Solución \n",
    "El estado de menor energía es el de mayor mutiplicidad,  en este caso es el $\\large{{}^3\\Sigma^-}$"
   ]
  },
  {
   "cell_type": "markdown",
   "metadata": {},
   "source": [
    "# 13. <span id=\"Problema13\">Dibuje un diagrama de MOs que explique porque el estado base de la diatómica $O_2$ es un triplete. Argumente su respuesta."
   ]
  },
  {
   "cell_type": "markdown",
   "metadata": {},
   "source": [
    "### Solución\n",
    "![image.png](./Recursos/O2.png)\n",
    "\n",
    "Debido a que el spin total de la molécula es $S=1$, entonces su multiplicidad es $M=2S+1=3$, por lo tanto, es un triplete"
   ]
  },
  {
   "cell_type": "markdown",
   "metadata": {},
   "source": [
    "# 14. <span id=\"Problema14\"> Argumentos similares podrían indicar que el estado base de C2 también es un triplete. Las tres configuraciones de menor energía de $C_2$ son:\n",
    "\\begin{aligned}\n",
    "&\\left(\\sigma_{g} 2 s\\right)^{2}\\left(\\sigma_{u}^{*} 2 s\\right)^{2}\\left(\\sigma_{u}^{*} 2 s\\right)^{2}\\left(\\sigma_{g} 2 p\\right)^{2}\\left(\\pi_{u} 2 p\\right)^{2} \\rightarrow^{3} \\Sigma_{g}^{-},^{1} \\Delta_{g},^{1} \\Sigma_{g}^{+}\\\\\n",
    "&\\left(\\sigma_{g} 2 s\\right)^{2}\\left(\\sigma_{u}^{*} 2 s\\right)^{2}\\left(\\sigma_{u}^{*} 2 s\\right)^{2}\\left(\\sigma_{g} 2 p\\right)^{2}\\left(\\pi_{u} 2 p\\right)^{2} \\rightarrow^{3} \\Pi_{u},^{1} \\Pi_{u}\\\\\n",
    "&\\left(\\sigma_{g} 2 s\\right)^{2}\\left(\\sigma_{u}^{*} 2 s\\right)^{2}\\left(\\sigma_{u}^{*} 2 s\\right)^{2}\\left(\\sigma_{g} 2 p\\right)^{2}\\left(\\pi_{u} 2 p\\right)^{2} \\rightarrow^{1} \\Sigma_{g}^{+}\n",
    "\\end{aligned}\n",
    "    \n",
    "Usando un diagrama de MOs muestre porque el argumento usado para O2 no es correcto para para C2. Sugerencia: los orbitales\n",
    "$\\sigma_g$ provienen de los orbitales atómicos (AOs) 2s y 2p, que tienen energías muy cercanas en C."
   ]
  },
  {
   "attachments": {},
   "cell_type": "markdown",
   "metadata": {},
   "source": [
    "# 15. <span id=\"Problema15\">\n",
    "## (A) Prediga el orden de enlace y el numero de electrones no apareados por cada una de las siguientes moléculas:\n",
    "    \n",
    "(a) $S_2$\n",
    "\n",
    "(b) $S_2^+$\n",
    "\n",
    "(c) $S_2^-$\n",
    "\n",
    "(d) $N_2^+$\n",
    "\n",
    "(e) $N_2^-$\n",
    "\n",
    "(f) $F_2^+$\n",
    "\n",
    "(g) $F_2^-$\n",
    "\n",
    "(h) $Ne_2^+$\n",
    "\n",
    "(j) $Na_2^-$\n",
    "\n",
    "(k) $H_2^-$\n",
    "\n",
    "(l) $C_2^+$\n",
    " \n",
    "(m) $C_2$\n",
    "\n",
    "(n) $C_2^-$\n",
    "\n",
    "(B) Use los resultados de (a) y la Tabla mostrada para predecir el término de estado base de cada una de las moléculas anteriores.\n",
    "![image.png](Recursos/tabla15.png)"
   ]
  },
  {
   "cell_type": "markdown",
   "metadata": {},
   "source": [
    "### Solución\n",
    "|Molécula | O.E|Estado Base |\n",
    "|---|---|---|\n",
    "|$S_2$| 2| |\n",
    "|$S_2^+$| 5/2|\n",
    "|$S_2^-$|3/2|\n",
    "|$N_2^+$ | 5/2 |\n",
    "|$N_2^-$ | 5/2 |\n",
    "|$F_2^+$| 3/2 |\n",
    "|$F_2^-1$ | 1/2 |\n",
    "|Ne_2^+|1/2|\n",
    "|Ne_2^-|1/2|\n",
    "|H_2^-|1/2|\n",
    "|C_2^+|3/2|\n",
    "|C_2|2|\n",
    "|C_2^-|5/2|"
   ]
  }
 ],
 "metadata": {
  "kernelspec": {
   "display_name": "Python 3",
   "language": "python",
   "name": "python3"
  },
  "language_info": {
   "codemirror_mode": {
    "name": "ipython",
    "version": 3
   },
   "file_extension": ".py",
   "mimetype": "text/x-python",
   "name": "python",
   "nbconvert_exporter": "python",
   "pygments_lexer": "ipython3",
   "version": "3.7.4"
  }
 },
 "nbformat": 4,
 "nbformat_minor": 2
}
