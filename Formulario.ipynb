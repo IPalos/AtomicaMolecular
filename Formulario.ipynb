{
 "cells": [
  {
   "cell_type": "markdown",
   "metadata": {},
   "source": [
    "## Átomo Hidrogenoide"
   ]
  },
  {
   "cell_type": "markdown",
   "metadata": {},
   "source": [
    "### Función de Onda\n",
    "\\begin{array}{l}\n",
    "\\psi_{n l m}=\\underbrace{R_{n l}(r)}_\\text{Función Radial} \\quad* \\underbrace{Y_{l m}(\\theta, \\phi)}_\\text{Armónicos Esféricos} \\\\\n",
    "\\\\ \\\\\n",
    "R_{n l}(r)=\\sqrt{\\left(\\frac{2 Z}{n a_{\\mu}}\\right)^{3} \\frac{(n-l-1) !}{2 n[(n+l) !]^{3}}} e^{-Z r / n a_{\\mu}}\\left(\\frac{2 Z r}{n a_{\\mu}}\\right)^{l} L_{n-l-1}^{2 l+1}\\left(\\frac{2 Z r}{n a_{\\mu}}\\right)\n",
    "\\end{array}"
   ]
  },
  {
   "cell_type": "markdown",
   "metadata": {},
   "source": [
    "### Condición de normalización\n",
    "\\begin{align}\n",
    "\\int_{0}^{\\infty} r^{2} d r \\int_{0}^{\\pi} \\sin \\theta d \\theta \\int_{0}^{2 \\pi} d \\varphi \\quad \\psi_{n \\ell m}^{*}(r, \\theta, \\varphi) \\psi_{n^{\\prime} \\ell^{\\prime} m^{\\prime}}(r, \\theta, \\varphi)=\\left\\langle n, \\ell, m | n^{\\prime}, \\ell^{\\prime}, m^{\\prime}\\right\\rangle=\\delta_{n n^{\\prime}} \\delta_{\\ell \\ell^{\\prime}} \\delta_{m m^{\\prime}}\n",
    "\\end{align}"
   ]
  },
  {
   "cell_type": "markdown",
   "metadata": {},
   "source": [
    "### Aproximación 0\n",
    "\n",
    "\\begin{align}\n",
    "H_0= \\underbrace{-\\frac{\\hbar}{2m}\\nabla^2}_\\text{Energía Cinética} -\\underbrace{ \\frac{Ze^2}{r}}_\\text{potencial de campo central}\n",
    "\\end{align}"
   ]
  },
  {
   "cell_type": "markdown",
   "metadata": {},
   "source": [
    "## Reglas de Selección\n",
    "\n",
    "\\begin{align}\n",
    "\\Delta l  = l\\pm1 \\\\\n",
    "\\Delta m = m,m\\pm1\n",
    "\\end{align}"
   ]
  },
  {
   "cell_type": "markdown",
   "metadata": {},
   "source": [
    "## Apantallamiento\n",
    "\n",
    "\n",
    "\\begin{gather}\n",
    "    1s=\n",
    "    \\begin{cases}\n",
    "      \\sigma = 0.30 \\quad \\text{si }n=n_{prueba}\\\\ \n",
    "    \\end{cases} \\\\ \\\\ \\\\\n",
    "    s,p=\n",
    "    \\begin{cases}\n",
    "      \\sigma = 0.35 \\quad \\text{si }n=n_{prueba}\\\\\n",
    "      \\sigma = 0.85 \\quad \\text{si }n= n_{prueba}-1\\\\\n",
    "      \\sigma = 1 \\quad \\text{si }n< n_{prueba}-1\\\\\n",
    "    \\end{cases}\\\\ \\\\ \\\\\n",
    "        d,f=\n",
    "    \\begin{cases}\n",
    "      \\sigma = 0.35 \\quad \\text{si }n=n_{prueba}\\\\\n",
    "      \\sigma = 1 \\quad \\text{si }n< n_{prueba}\\\\\n",
    "    \\end{cases}\n",
    "\\end{gather}"
   ]
  },
  {
   "cell_type": "code",
   "execution_count": null,
   "metadata": {},
   "outputs": [],
   "source": []
  }
 ],
 "metadata": {
  "kernelspec": {
   "display_name": "Python 3",
   "language": "python",
   "name": "python3"
  },
  "language_info": {
   "codemirror_mode": {
    "name": "ipython",
    "version": 3
   },
   "file_extension": ".py",
   "mimetype": "text/x-python",
   "name": "python",
   "nbconvert_exporter": "python",
   "pygments_lexer": "ipython3",
   "version": "3.7.4"
  }
 },
 "nbformat": 4,
 "nbformat_minor": 2
}
